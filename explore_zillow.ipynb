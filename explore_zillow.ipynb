{
 "cells": [
  {
   "cell_type": "code",
   "execution_count": 1,
   "metadata": {},
   "outputs": [],
   "source": [
    "# ignore warnings\n",
    "import warnings\n",
    "warnings.filterwarnings(\"ignore\")\n",
    "\n",
    "# Wrangling\n",
    "import pandas as pd\n",
    "import numpy as np\n",
    "from sklearn.model_selection import train_test_split\n",
    "from sklearn.preprocessing import StandardScaler\n",
    "\n",
    "# Statistical Tests\n",
    "import scipy.stats as stats\n",
    "\n",
    "# Visualizing\n",
    "import matplotlib.pyplot as plt\n",
    "from matplotlib import cm\n",
    "import seaborn as sns\n",
    "from sklearn.model_selection import learning_curve\n",
    "\n",
    "pd.options.display.float_format = '{:20,.2f}'.format\n",
    "\n",
    "import env\n",
    "import explore\n",
    "import wrangle_zillow\n"
   ]
  },
  {
   "cell_type": "code",
   "execution_count": 2,
   "metadata": {},
   "outputs": [],
   "source": [
    "from wrangle_zillow import split"
   ]
  },
  {
   "cell_type": "code",
   "execution_count": 3,
   "metadata": {},
   "outputs": [],
   "source": [
    "df = wrangle_zillow.wrangle_zillow()"
   ]
  },
  {
   "cell_type": "code",
   "execution_count": 4,
   "metadata": {},
   "outputs": [
    {
     "data": {
      "text/html": [
       "<div>\n",
       "<style scoped>\n",
       "    .dataframe tbody tr th:only-of-type {\n",
       "        vertical-align: middle;\n",
       "    }\n",
       "\n",
       "    .dataframe tbody tr th {\n",
       "        vertical-align: top;\n",
       "    }\n",
       "\n",
       "    .dataframe thead th {\n",
       "        text-align: right;\n",
       "    }\n",
       "</style>\n",
       "<table border=\"1\" class=\"dataframe\">\n",
       "  <thead>\n",
       "    <tr style=\"text-align: right;\">\n",
       "      <th></th>\n",
       "      <th>bathroomcnt</th>\n",
       "      <th>bedroomcnt</th>\n",
       "      <th>buildingqualitytypeid</th>\n",
       "      <th>calculatedfinishedsquarefeet</th>\n",
       "      <th>fips</th>\n",
       "      <th>latitude</th>\n",
       "      <th>longitude</th>\n",
       "      <th>lotsizesquarefeet</th>\n",
       "      <th>rawcensustractandblock</th>\n",
       "      <th>regionidcity</th>\n",
       "      <th>...</th>\n",
       "      <th>yearbuilt</th>\n",
       "      <th>structuretaxvaluedollarcnt</th>\n",
       "      <th>taxvaluedollarcnt</th>\n",
       "      <th>assessmentyear</th>\n",
       "      <th>landtaxvaluedollarcnt</th>\n",
       "      <th>taxamount</th>\n",
       "      <th>logerror</th>\n",
       "      <th>transactiondate</th>\n",
       "      <th>heatingorsystemdesc</th>\n",
       "      <th>county</th>\n",
       "    </tr>\n",
       "    <tr>\n",
       "      <th>parcelid</th>\n",
       "      <th></th>\n",
       "      <th></th>\n",
       "      <th></th>\n",
       "      <th></th>\n",
       "      <th></th>\n",
       "      <th></th>\n",
       "      <th></th>\n",
       "      <th></th>\n",
       "      <th></th>\n",
       "      <th></th>\n",
       "      <th></th>\n",
       "      <th></th>\n",
       "      <th></th>\n",
       "      <th></th>\n",
       "      <th></th>\n",
       "      <th></th>\n",
       "      <th></th>\n",
       "      <th></th>\n",
       "      <th></th>\n",
       "      <th></th>\n",
       "      <th></th>\n",
       "    </tr>\n",
       "  </thead>\n",
       "  <tbody>\n",
       "    <tr>\n",
       "      <th>10711855</th>\n",
       "      <td>2.00</td>\n",
       "      <td>3.00</td>\n",
       "      <td>8.00</td>\n",
       "      <td>2,107.00</td>\n",
       "      <td>6,037.00</td>\n",
       "      <td>34,222,559.00</td>\n",
       "      <td>-118,617,387.00</td>\n",
       "      <td>9,158.00</td>\n",
       "      <td>60,371,132.32</td>\n",
       "      <td>12,447.00</td>\n",
       "      <td>...</td>\n",
       "      <td>1,972.00</td>\n",
       "      <td>249,655.00</td>\n",
       "      <td>624,139.00</td>\n",
       "      <td>2,016.00</td>\n",
       "      <td>374,484.00</td>\n",
       "      <td>7,659.36</td>\n",
       "      <td>-0.01</td>\n",
       "      <td>2017-07-07</td>\n",
       "      <td>Central</td>\n",
       "      <td>Los_Angeles</td>\n",
       "    </tr>\n",
       "    <tr>\n",
       "      <th>10711877</th>\n",
       "      <td>2.00</td>\n",
       "      <td>4.00</td>\n",
       "      <td>8.00</td>\n",
       "      <td>1,882.00</td>\n",
       "      <td>6,037.00</td>\n",
       "      <td>34,220,261.00</td>\n",
       "      <td>-118,616,409.00</td>\n",
       "      <td>9,035.00</td>\n",
       "      <td>60,371,132.32</td>\n",
       "      <td>12,447.00</td>\n",
       "      <td>...</td>\n",
       "      <td>1,972.00</td>\n",
       "      <td>253,000.00</td>\n",
       "      <td>660,000.00</td>\n",
       "      <td>2,016.00</td>\n",
       "      <td>407,000.00</td>\n",
       "      <td>8,123.91</td>\n",
       "      <td>0.02</td>\n",
       "      <td>2017-08-29</td>\n",
       "      <td>Central</td>\n",
       "      <td>Los_Angeles</td>\n",
       "    </tr>\n",
       "    <tr>\n",
       "      <th>10711888</th>\n",
       "      <td>2.00</td>\n",
       "      <td>4.00</td>\n",
       "      <td>8.00</td>\n",
       "      <td>1,882.00</td>\n",
       "      <td>6,037.00</td>\n",
       "      <td>34,222,491.00</td>\n",
       "      <td>-118,616,854.00</td>\n",
       "      <td>9,800.00</td>\n",
       "      <td>60,371,132.32</td>\n",
       "      <td>12,447.00</td>\n",
       "      <td>...</td>\n",
       "      <td>1,972.00</td>\n",
       "      <td>257,591.00</td>\n",
       "      <td>542,923.00</td>\n",
       "      <td>2,016.00</td>\n",
       "      <td>285,332.00</td>\n",
       "      <td>6,673.24</td>\n",
       "      <td>0.08</td>\n",
       "      <td>2017-04-04</td>\n",
       "      <td>Central</td>\n",
       "      <td>Los_Angeles</td>\n",
       "    </tr>\n",
       "    <tr>\n",
       "      <th>10711910</th>\n",
       "      <td>2.00</td>\n",
       "      <td>3.00</td>\n",
       "      <td>8.00</td>\n",
       "      <td>1,477.00</td>\n",
       "      <td>6,037.00</td>\n",
       "      <td>34,221,864.00</td>\n",
       "      <td>-118,615,739.00</td>\n",
       "      <td>11,285.00</td>\n",
       "      <td>60,371,132.32</td>\n",
       "      <td>12,447.00</td>\n",
       "      <td>...</td>\n",
       "      <td>1,960.00</td>\n",
       "      <td>57,968.00</td>\n",
       "      <td>78,031.00</td>\n",
       "      <td>2,016.00</td>\n",
       "      <td>20,063.00</td>\n",
       "      <td>1,116.46</td>\n",
       "      <td>-0.04</td>\n",
       "      <td>2017-03-17</td>\n",
       "      <td>Central</td>\n",
       "      <td>Los_Angeles</td>\n",
       "    </tr>\n",
       "    <tr>\n",
       "      <th>10711923</th>\n",
       "      <td>2.00</td>\n",
       "      <td>4.00</td>\n",
       "      <td>8.00</td>\n",
       "      <td>1,918.00</td>\n",
       "      <td>6,037.00</td>\n",
       "      <td>34,220,619.00</td>\n",
       "      <td>-118,615,253.00</td>\n",
       "      <td>11,239.00</td>\n",
       "      <td>60,371,132.32</td>\n",
       "      <td>12,447.00</td>\n",
       "      <td>...</td>\n",
       "      <td>1,960.00</td>\n",
       "      <td>167,869.00</td>\n",
       "      <td>415,459.00</td>\n",
       "      <td>2,016.00</td>\n",
       "      <td>247,590.00</td>\n",
       "      <td>5,239.85</td>\n",
       "      <td>-0.01</td>\n",
       "      <td>2017-03-24</td>\n",
       "      <td>Central</td>\n",
       "      <td>Los_Angeles</td>\n",
       "    </tr>\n",
       "  </tbody>\n",
       "</table>\n",
       "<p>5 rows × 24 columns</p>\n",
       "</div>"
      ],
      "text/plain": [
       "                  bathroomcnt           bedroomcnt  buildingqualitytypeid  \\\n",
       "parcelid                                                                    \n",
       "10711855                 2.00                 3.00                   8.00   \n",
       "10711877                 2.00                 4.00                   8.00   \n",
       "10711888                 2.00                 4.00                   8.00   \n",
       "10711910                 2.00                 3.00                   8.00   \n",
       "10711923                 2.00                 4.00                   8.00   \n",
       "\n",
       "          calculatedfinishedsquarefeet                 fips  \\\n",
       "parcelid                                                      \n",
       "10711855                      2,107.00             6,037.00   \n",
       "10711877                      1,882.00             6,037.00   \n",
       "10711888                      1,882.00             6,037.00   \n",
       "10711910                      1,477.00             6,037.00   \n",
       "10711923                      1,918.00             6,037.00   \n",
       "\n",
       "                     latitude            longitude    lotsizesquarefeet  \\\n",
       "parcelid                                                                  \n",
       "10711855        34,222,559.00      -118,617,387.00             9,158.00   \n",
       "10711877        34,220,261.00      -118,616,409.00             9,035.00   \n",
       "10711888        34,222,491.00      -118,616,854.00             9,800.00   \n",
       "10711910        34,221,864.00      -118,615,739.00            11,285.00   \n",
       "10711923        34,220,619.00      -118,615,253.00            11,239.00   \n",
       "\n",
       "          rawcensustractandblock         regionidcity  ...  \\\n",
       "parcelid                                               ...   \n",
       "10711855           60,371,132.32            12,447.00  ...   \n",
       "10711877           60,371,132.32            12,447.00  ...   \n",
       "10711888           60,371,132.32            12,447.00  ...   \n",
       "10711910           60,371,132.32            12,447.00  ...   \n",
       "10711923           60,371,132.32            12,447.00  ...   \n",
       "\n",
       "                    yearbuilt  structuretaxvaluedollarcnt  \\\n",
       "parcelid                                                    \n",
       "10711855             1,972.00                  249,655.00   \n",
       "10711877             1,972.00                  253,000.00   \n",
       "10711888             1,972.00                  257,591.00   \n",
       "10711910             1,960.00                   57,968.00   \n",
       "10711923             1,960.00                  167,869.00   \n",
       "\n",
       "            taxvaluedollarcnt       assessmentyear  landtaxvaluedollarcnt  \\\n",
       "parcelid                                                                    \n",
       "10711855           624,139.00             2,016.00             374,484.00   \n",
       "10711877           660,000.00             2,016.00             407,000.00   \n",
       "10711888           542,923.00             2,016.00             285,332.00   \n",
       "10711910            78,031.00             2,016.00              20,063.00   \n",
       "10711923           415,459.00             2,016.00             247,590.00   \n",
       "\n",
       "                    taxamount             logerror  transactiondate  \\\n",
       "parcelid                                                              \n",
       "10711855             7,659.36                -0.01       2017-07-07   \n",
       "10711877             8,123.91                 0.02       2017-08-29   \n",
       "10711888             6,673.24                 0.08       2017-04-04   \n",
       "10711910             1,116.46                -0.04       2017-03-17   \n",
       "10711923             5,239.85                -0.01       2017-03-24   \n",
       "\n",
       "          heatingorsystemdesc       county  \n",
       "parcelid                                    \n",
       "10711855              Central  Los_Angeles  \n",
       "10711877              Central  Los_Angeles  \n",
       "10711888              Central  Los_Angeles  \n",
       "10711910              Central  Los_Angeles  \n",
       "10711923              Central  Los_Angeles  \n",
       "\n",
       "[5 rows x 24 columns]"
      ]
     },
     "execution_count": 4,
     "metadata": {},
     "output_type": "execute_result"
    }
   ],
   "source": [
    "df.head()"
   ]
  },
  {
   "cell_type": "code",
   "execution_count": 5,
   "metadata": {},
   "outputs": [
    {
     "data": {
      "text/plain": [
       "(69730, 24)"
      ]
     },
     "execution_count": 5,
     "metadata": {},
     "output_type": "execute_result"
    }
   ],
   "source": [
    "df.shape"
   ]
  },
  {
   "cell_type": "code",
   "execution_count": 6,
   "metadata": {},
   "outputs": [
    {
     "name": "stdout",
     "output_type": "stream",
     "text": [
      "<class 'pandas.core.frame.DataFrame'>\n",
      "Int64Index: 69730 entries, 10711855 to 162960814\n",
      "Data columns (total 24 columns):\n",
      " #   Column                        Non-Null Count  Dtype  \n",
      "---  ------                        --------------  -----  \n",
      " 0   bathroomcnt                   69730 non-null  float64\n",
      " 1   bedroomcnt                    69730 non-null  float64\n",
      " 2   buildingqualitytypeid         69730 non-null  float64\n",
      " 3   calculatedfinishedsquarefeet  69730 non-null  float64\n",
      " 4   fips                          69730 non-null  float64\n",
      " 5   latitude                      69730 non-null  float64\n",
      " 6   longitude                     69730 non-null  float64\n",
      " 7   lotsizesquarefeet             69730 non-null  float64\n",
      " 8   rawcensustractandblock        69730 non-null  float64\n",
      " 9   regionidcity                  69730 non-null  float64\n",
      " 10  regionidcounty                69730 non-null  float64\n",
      " 11  regionidzip                   69730 non-null  float64\n",
      " 12  roomcnt                       69730 non-null  float64\n",
      " 13  unitcnt                       69730 non-null  float64\n",
      " 14  yearbuilt                     69730 non-null  float64\n",
      " 15  structuretaxvaluedollarcnt    69730 non-null  float64\n",
      " 16  taxvaluedollarcnt             69730 non-null  float64\n",
      " 17  assessmentyear                69730 non-null  float64\n",
      " 18  landtaxvaluedollarcnt         69730 non-null  float64\n",
      " 19  taxamount                     69730 non-null  float64\n",
      " 20  logerror                      69730 non-null  float64\n",
      " 21  transactiondate               69730 non-null  object \n",
      " 22  heatingorsystemdesc           69730 non-null  object \n",
      " 23  county                        69730 non-null  object \n",
      "dtypes: float64(21), object(3)\n",
      "memory usage: 13.3+ MB\n"
     ]
    }
   ],
   "source": [
    "df.info()"
   ]
  },
  {
   "cell_type": "code",
   "execution_count": 7,
   "metadata": {},
   "outputs": [
    {
     "data": {
      "text/html": [
       "<div>\n",
       "<style scoped>\n",
       "    .dataframe tbody tr th:only-of-type {\n",
       "        vertical-align: middle;\n",
       "    }\n",
       "\n",
       "    .dataframe tbody tr th {\n",
       "        vertical-align: top;\n",
       "    }\n",
       "\n",
       "    .dataframe thead th {\n",
       "        text-align: right;\n",
       "    }\n",
       "</style>\n",
       "<table border=\"1\" class=\"dataframe\">\n",
       "  <thead>\n",
       "    <tr style=\"text-align: right;\">\n",
       "      <th></th>\n",
       "      <th>bathroomcnt</th>\n",
       "      <th>bedroomcnt</th>\n",
       "      <th>buildingqualitytypeid</th>\n",
       "      <th>calculatedfinishedsquarefeet</th>\n",
       "      <th>fips</th>\n",
       "      <th>latitude</th>\n",
       "      <th>longitude</th>\n",
       "      <th>lotsizesquarefeet</th>\n",
       "      <th>rawcensustractandblock</th>\n",
       "      <th>regionidcity</th>\n",
       "      <th>...</th>\n",
       "      <th>regionidzip</th>\n",
       "      <th>roomcnt</th>\n",
       "      <th>unitcnt</th>\n",
       "      <th>yearbuilt</th>\n",
       "      <th>structuretaxvaluedollarcnt</th>\n",
       "      <th>taxvaluedollarcnt</th>\n",
       "      <th>assessmentyear</th>\n",
       "      <th>landtaxvaluedollarcnt</th>\n",
       "      <th>taxamount</th>\n",
       "      <th>logerror</th>\n",
       "    </tr>\n",
       "  </thead>\n",
       "  <tbody>\n",
       "    <tr>\n",
       "      <th>count</th>\n",
       "      <td>69,730.00</td>\n",
       "      <td>69,730.00</td>\n",
       "      <td>69,730.00</td>\n",
       "      <td>69,730.00</td>\n",
       "      <td>69,730.00</td>\n",
       "      <td>69,730.00</td>\n",
       "      <td>69,730.00</td>\n",
       "      <td>69,730.00</td>\n",
       "      <td>69,730.00</td>\n",
       "      <td>69,730.00</td>\n",
       "      <td>...</td>\n",
       "      <td>69,730.00</td>\n",
       "      <td>69,730.00</td>\n",
       "      <td>69,730.00</td>\n",
       "      <td>69,730.00</td>\n",
       "      <td>69,730.00</td>\n",
       "      <td>69,730.00</td>\n",
       "      <td>69,730.00</td>\n",
       "      <td>69,730.00</td>\n",
       "      <td>69,730.00</td>\n",
       "      <td>69,730.00</td>\n",
       "    </tr>\n",
       "    <tr>\n",
       "      <th>mean</th>\n",
       "      <td>2.25</td>\n",
       "      <td>3.01</td>\n",
       "      <td>6.36</td>\n",
       "      <td>1,733.35</td>\n",
       "      <td>6,049.32</td>\n",
       "      <td>34,002,589.76</td>\n",
       "      <td>-118,193,526.09</td>\n",
       "      <td>27,639.00</td>\n",
       "      <td>60,496,164.89</td>\n",
       "      <td>33,491.96</td>\n",
       "      <td>...</td>\n",
       "      <td>96,611.71</td>\n",
       "      <td>1.59</td>\n",
       "      <td>1.00</td>\n",
       "      <td>1,969.02</td>\n",
       "      <td>180,852.17</td>\n",
       "      <td>466,479.36</td>\n",
       "      <td>2,016.00</td>\n",
       "      <td>285,627.18</td>\n",
       "      <td>5,690.75</td>\n",
       "      <td>0.02</td>\n",
       "    </tr>\n",
       "    <tr>\n",
       "      <th>std</th>\n",
       "      <td>0.92</td>\n",
       "      <td>1.00</td>\n",
       "      <td>1.36</td>\n",
       "      <td>874.12</td>\n",
       "      <td>20.84</td>\n",
       "      <td>268,069.73</td>\n",
       "      <td>360,924.53</td>\n",
       "      <td>119,050.27</td>\n",
       "      <td>206,832.91</td>\n",
       "      <td>46,557.12</td>\n",
       "      <td>...</td>\n",
       "      <td>3,997.63</td>\n",
       "      <td>2.91</td>\n",
       "      <td>0.00</td>\n",
       "      <td>22.99</td>\n",
       "      <td>180,610.03</td>\n",
       "      <td>460,563.15</td>\n",
       "      <td>0.00</td>\n",
       "      <td>329,129.03</td>\n",
       "      <td>5,364.01</td>\n",
       "      <td>0.17</td>\n",
       "    </tr>\n",
       "    <tr>\n",
       "      <th>min</th>\n",
       "      <td>1.00</td>\n",
       "      <td>1.00</td>\n",
       "      <td>1.00</td>\n",
       "      <td>360.00</td>\n",
       "      <td>6,037.00</td>\n",
       "      <td>33,339,527.00</td>\n",
       "      <td>-119,475,265.00</td>\n",
       "      <td>236.00</td>\n",
       "      <td>60,371,011.10</td>\n",
       "      <td>3,491.00</td>\n",
       "      <td>...</td>\n",
       "      <td>95,982.00</td>\n",
       "      <td>0.00</td>\n",
       "      <td>1.00</td>\n",
       "      <td>1,878.00</td>\n",
       "      <td>44.00</td>\n",
       "      <td>3,254.00</td>\n",
       "      <td>2,016.00</td>\n",
       "      <td>161.00</td>\n",
       "      <td>19.92</td>\n",
       "      <td>-4.66</td>\n",
       "    </tr>\n",
       "    <tr>\n",
       "      <th>25%</th>\n",
       "      <td>2.00</td>\n",
       "      <td>2.00</td>\n",
       "      <td>6.00</td>\n",
       "      <td>1,164.00</td>\n",
       "      <td>6,037.00</td>\n",
       "      <td>33,803,881.25</td>\n",
       "      <td>-118,409,176.75</td>\n",
       "      <td>6,000.00</td>\n",
       "      <td>60,373,115.00</td>\n",
       "      <td>12,447.00</td>\n",
       "      <td>...</td>\n",
       "      <td>96,206.00</td>\n",
       "      <td>0.00</td>\n",
       "      <td>1.00</td>\n",
       "      <td>1,954.00</td>\n",
       "      <td>82,869.00</td>\n",
       "      <td>202,716.00</td>\n",
       "      <td>2,016.00</td>\n",
       "      <td>82,283.25</td>\n",
       "      <td>2,665.20</td>\n",
       "      <td>-0.02</td>\n",
       "    </tr>\n",
       "    <tr>\n",
       "      <th>50%</th>\n",
       "      <td>2.00</td>\n",
       "      <td>3.00</td>\n",
       "      <td>6.00</td>\n",
       "      <td>1,507.00</td>\n",
       "      <td>6,037.00</td>\n",
       "      <td>34,013,010.00</td>\n",
       "      <td>-118,163,000.00</td>\n",
       "      <td>7,313.00</td>\n",
       "      <td>60,376,206.01</td>\n",
       "      <td>25,218.00</td>\n",
       "      <td>...</td>\n",
       "      <td>96,411.00</td>\n",
       "      <td>0.00</td>\n",
       "      <td>1.00</td>\n",
       "      <td>1,970.00</td>\n",
       "      <td>133,687.00</td>\n",
       "      <td>354,406.00</td>\n",
       "      <td>2,016.00</td>\n",
       "      <td>203,025.00</td>\n",
       "      <td>4,374.20</td>\n",
       "      <td>0.01</td>\n",
       "    </tr>\n",
       "    <tr>\n",
       "      <th>75%</th>\n",
       "      <td>3.00</td>\n",
       "      <td>4.00</td>\n",
       "      <td>7.00</td>\n",
       "      <td>2,048.00</td>\n",
       "      <td>6,059.00</td>\n",
       "      <td>34,174,374.25</td>\n",
       "      <td>-117,913,403.25</td>\n",
       "      <td>10,670.00</td>\n",
       "      <td>60,590,524.18</td>\n",
       "      <td>45,457.00</td>\n",
       "      <td>...</td>\n",
       "      <td>96,989.00</td>\n",
       "      <td>0.00</td>\n",
       "      <td>1.00</td>\n",
       "      <td>1,986.00</td>\n",
       "      <td>213,202.00</td>\n",
       "      <td>562,348.75</td>\n",
       "      <td>2,016.00</td>\n",
       "      <td>366,200.00</td>\n",
       "      <td>6,772.72</td>\n",
       "      <td>0.04</td>\n",
       "    </tr>\n",
       "    <tr>\n",
       "      <th>max</th>\n",
       "      <td>10.00</td>\n",
       "      <td>11.00</td>\n",
       "      <td>12.00</td>\n",
       "      <td>12,039.00</td>\n",
       "      <td>6,111.00</td>\n",
       "      <td>34,818,767.00</td>\n",
       "      <td>-117,572,338.00</td>\n",
       "      <td>6,971,010.00</td>\n",
       "      <td>61,110,091.00</td>\n",
       "      <td>396,556.00</td>\n",
       "      <td>...</td>\n",
       "      <td>399,675.00</td>\n",
       "      <td>14.00</td>\n",
       "      <td>1.00</td>\n",
       "      <td>2,016.00</td>\n",
       "      <td>3,348,387.00</td>\n",
       "      <td>4,993,132.00</td>\n",
       "      <td>2,016.00</td>\n",
       "      <td>4,847,224.00</td>\n",
       "      <td>142,488.69</td>\n",
       "      <td>3.39</td>\n",
       "    </tr>\n",
       "  </tbody>\n",
       "</table>\n",
       "<p>8 rows × 21 columns</p>\n",
       "</div>"
      ],
      "text/plain": [
       "               bathroomcnt           bedroomcnt  buildingqualitytypeid  \\\n",
       "count            69,730.00            69,730.00              69,730.00   \n",
       "mean                  2.25                 3.01                   6.36   \n",
       "std                   0.92                 1.00                   1.36   \n",
       "min                   1.00                 1.00                   1.00   \n",
       "25%                   2.00                 2.00                   6.00   \n",
       "50%                   2.00                 3.00                   6.00   \n",
       "75%                   3.00                 4.00                   7.00   \n",
       "max                  10.00                11.00                  12.00   \n",
       "\n",
       "       calculatedfinishedsquarefeet                 fips             latitude  \\\n",
       "count                     69,730.00            69,730.00            69,730.00   \n",
       "mean                       1,733.35             6,049.32        34,002,589.76   \n",
       "std                          874.12                20.84           268,069.73   \n",
       "min                          360.00             6,037.00        33,339,527.00   \n",
       "25%                        1,164.00             6,037.00        33,803,881.25   \n",
       "50%                        1,507.00             6,037.00        34,013,010.00   \n",
       "75%                        2,048.00             6,059.00        34,174,374.25   \n",
       "max                       12,039.00             6,111.00        34,818,767.00   \n",
       "\n",
       "                 longitude    lotsizesquarefeet  rawcensustractandblock  \\\n",
       "count            69,730.00            69,730.00               69,730.00   \n",
       "mean       -118,193,526.09            27,639.00           60,496,164.89   \n",
       "std             360,924.53           119,050.27              206,832.91   \n",
       "min        -119,475,265.00               236.00           60,371,011.10   \n",
       "25%        -118,409,176.75             6,000.00           60,373,115.00   \n",
       "50%        -118,163,000.00             7,313.00           60,376,206.01   \n",
       "75%        -117,913,403.25            10,670.00           60,590,524.18   \n",
       "max        -117,572,338.00         6,971,010.00           61,110,091.00   \n",
       "\n",
       "              regionidcity  ...          regionidzip              roomcnt  \\\n",
       "count            69,730.00  ...            69,730.00            69,730.00   \n",
       "mean             33,491.96  ...            96,611.71                 1.59   \n",
       "std              46,557.12  ...             3,997.63                 2.91   \n",
       "min               3,491.00  ...            95,982.00                 0.00   \n",
       "25%              12,447.00  ...            96,206.00                 0.00   \n",
       "50%              25,218.00  ...            96,411.00                 0.00   \n",
       "75%              45,457.00  ...            96,989.00                 0.00   \n",
       "max             396,556.00  ...           399,675.00                14.00   \n",
       "\n",
       "                   unitcnt            yearbuilt  structuretaxvaluedollarcnt  \\\n",
       "count            69,730.00            69,730.00                   69,730.00   \n",
       "mean                  1.00             1,969.02                  180,852.17   \n",
       "std                   0.00                22.99                  180,610.03   \n",
       "min                   1.00             1,878.00                       44.00   \n",
       "25%                   1.00             1,954.00                   82,869.00   \n",
       "50%                   1.00             1,970.00                  133,687.00   \n",
       "75%                   1.00             1,986.00                  213,202.00   \n",
       "max                   1.00             2,016.00                3,348,387.00   \n",
       "\n",
       "         taxvaluedollarcnt       assessmentyear  landtaxvaluedollarcnt  \\\n",
       "count            69,730.00            69,730.00              69,730.00   \n",
       "mean            466,479.36             2,016.00             285,627.18   \n",
       "std             460,563.15                 0.00             329,129.03   \n",
       "min               3,254.00             2,016.00                 161.00   \n",
       "25%             202,716.00             2,016.00              82,283.25   \n",
       "50%             354,406.00             2,016.00             203,025.00   \n",
       "75%             562,348.75             2,016.00             366,200.00   \n",
       "max           4,993,132.00             2,016.00           4,847,224.00   \n",
       "\n",
       "                 taxamount             logerror  \n",
       "count            69,730.00            69,730.00  \n",
       "mean              5,690.75                 0.02  \n",
       "std               5,364.01                 0.17  \n",
       "min                  19.92                -4.66  \n",
       "25%               2,665.20                -0.02  \n",
       "50%               4,374.20                 0.01  \n",
       "75%               6,772.72                 0.04  \n",
       "max             142,488.69                 3.39  \n",
       "\n",
       "[8 rows x 21 columns]"
      ]
     },
     "execution_count": 7,
     "metadata": {},
     "output_type": "execute_result"
    }
   ],
   "source": [
    "df.describe()"
   ]
  },
  {
   "cell_type": "code",
   "execution_count": 8,
   "metadata": {},
   "outputs": [
    {
     "data": {
      "text/plain": [
       "bathroomcnt                     0\n",
       "bedroomcnt                      0\n",
       "buildingqualitytypeid           0\n",
       "calculatedfinishedsquarefeet    0\n",
       "fips                            0\n",
       "latitude                        0\n",
       "longitude                       0\n",
       "lotsizesquarefeet               0\n",
       "rawcensustractandblock          0\n",
       "regionidcity                    0\n",
       "regionidcounty                  0\n",
       "regionidzip                     0\n",
       "roomcnt                         0\n",
       "unitcnt                         0\n",
       "yearbuilt                       0\n",
       "structuretaxvaluedollarcnt      0\n",
       "taxvaluedollarcnt               0\n",
       "assessmentyear                  0\n",
       "landtaxvaluedollarcnt           0\n",
       "taxamount                       0\n",
       "logerror                        0\n",
       "transactiondate                 0\n",
       "heatingorsystemdesc             0\n",
       "county                          0\n",
       "dtype: int64"
      ]
     },
     "execution_count": 8,
     "metadata": {},
     "output_type": "execute_result"
    }
   ],
   "source": [
    "df.isnull().sum()"
   ]
  },
  {
   "cell_type": "code",
   "execution_count": 9,
   "metadata": {},
   "outputs": [],
   "source": [
    "train, validate, test = split(df)"
   ]
  },
  {
   "cell_type": "code",
   "execution_count": 10,
   "metadata": {},
   "outputs": [
    {
     "data": {
      "text/html": [
       "<div>\n",
       "<style scoped>\n",
       "    .dataframe tbody tr th:only-of-type {\n",
       "        vertical-align: middle;\n",
       "    }\n",
       "\n",
       "    .dataframe tbody tr th {\n",
       "        vertical-align: top;\n",
       "    }\n",
       "\n",
       "    .dataframe thead th {\n",
       "        text-align: right;\n",
       "    }\n",
       "</style>\n",
       "<table border=\"1\" class=\"dataframe\">\n",
       "  <thead>\n",
       "    <tr style=\"text-align: right;\">\n",
       "      <th></th>\n",
       "      <th>bathroomcnt</th>\n",
       "      <th>bedroomcnt</th>\n",
       "      <th>buildingqualitytypeid</th>\n",
       "      <th>calculatedfinishedsquarefeet</th>\n",
       "      <th>fips</th>\n",
       "      <th>latitude</th>\n",
       "      <th>longitude</th>\n",
       "      <th>lotsizesquarefeet</th>\n",
       "      <th>rawcensustractandblock</th>\n",
       "      <th>regionidcity</th>\n",
       "      <th>...</th>\n",
       "      <th>yearbuilt</th>\n",
       "      <th>structuretaxvaluedollarcnt</th>\n",
       "      <th>taxvaluedollarcnt</th>\n",
       "      <th>assessmentyear</th>\n",
       "      <th>landtaxvaluedollarcnt</th>\n",
       "      <th>taxamount</th>\n",
       "      <th>logerror</th>\n",
       "      <th>transactiondate</th>\n",
       "      <th>heatingorsystemdesc</th>\n",
       "      <th>county</th>\n",
       "    </tr>\n",
       "    <tr>\n",
       "      <th>parcelid</th>\n",
       "      <th></th>\n",
       "      <th></th>\n",
       "      <th></th>\n",
       "      <th></th>\n",
       "      <th></th>\n",
       "      <th></th>\n",
       "      <th></th>\n",
       "      <th></th>\n",
       "      <th></th>\n",
       "      <th></th>\n",
       "      <th></th>\n",
       "      <th></th>\n",
       "      <th></th>\n",
       "      <th></th>\n",
       "      <th></th>\n",
       "      <th></th>\n",
       "      <th></th>\n",
       "      <th></th>\n",
       "      <th></th>\n",
       "      <th></th>\n",
       "      <th></th>\n",
       "    </tr>\n",
       "  </thead>\n",
       "  <tbody>\n",
       "    <tr>\n",
       "      <th>11858352</th>\n",
       "      <td>2.00</td>\n",
       "      <td>2.00</td>\n",
       "      <td>4.00</td>\n",
       "      <td>1,009.00</td>\n",
       "      <td>6,037.00</td>\n",
       "      <td>34,051,798.00</td>\n",
       "      <td>-118,094,002.00</td>\n",
       "      <td>8,913.00</td>\n",
       "      <td>60,374,825.21</td>\n",
       "      <td>54,212.00</td>\n",
       "      <td>...</td>\n",
       "      <td>1,942.00</td>\n",
       "      <td>103,809.00</td>\n",
       "      <td>149,216.00</td>\n",
       "      <td>2,016.00</td>\n",
       "      <td>45,407.00</td>\n",
       "      <td>2,026.32</td>\n",
       "      <td>0.30</td>\n",
       "      <td>2017-05-31</td>\n",
       "      <td>Floor/Wall</td>\n",
       "      <td>Los_Angeles</td>\n",
       "    </tr>\n",
       "    <tr>\n",
       "      <th>12973126</th>\n",
       "      <td>1.00</td>\n",
       "      <td>3.00</td>\n",
       "      <td>5.00</td>\n",
       "      <td>2,520.00</td>\n",
       "      <td>6,037.00</td>\n",
       "      <td>34,125,398.00</td>\n",
       "      <td>-117,977,314.00</td>\n",
       "      <td>24,309.00</td>\n",
       "      <td>60,374,301.02</td>\n",
       "      <td>24,435.00</td>\n",
       "      <td>...</td>\n",
       "      <td>1,906.00</td>\n",
       "      <td>208,047.00</td>\n",
       "      <td>556,524.00</td>\n",
       "      <td>2,016.00</td>\n",
       "      <td>348,477.00</td>\n",
       "      <td>7,160.29</td>\n",
       "      <td>0.58</td>\n",
       "      <td>2017-01-13</td>\n",
       "      <td>Floor/Wall</td>\n",
       "      <td>Los_Angeles</td>\n",
       "    </tr>\n",
       "    <tr>\n",
       "      <th>11462136</th>\n",
       "      <td>4.00</td>\n",
       "      <td>3.00</td>\n",
       "      <td>8.00</td>\n",
       "      <td>2,933.00</td>\n",
       "      <td>6,037.00</td>\n",
       "      <td>33,967,425.00</td>\n",
       "      <td>-118,419,624.00</td>\n",
       "      <td>6,440.00</td>\n",
       "      <td>60,372,765.00</td>\n",
       "      <td>12,447.00</td>\n",
       "      <td>...</td>\n",
       "      <td>1,949.00</td>\n",
       "      <td>218,848.00</td>\n",
       "      <td>687,618.00</td>\n",
       "      <td>2,016.00</td>\n",
       "      <td>468,770.00</td>\n",
       "      <td>8,322.18</td>\n",
       "      <td>-0.03</td>\n",
       "      <td>2017-02-22</td>\n",
       "      <td>Central</td>\n",
       "      <td>Los_Angeles</td>\n",
       "    </tr>\n",
       "    <tr>\n",
       "      <th>14185846</th>\n",
       "      <td>3.00</td>\n",
       "      <td>5.00</td>\n",
       "      <td>6.00</td>\n",
       "      <td>1,802.00</td>\n",
       "      <td>6,059.00</td>\n",
       "      <td>33,869,239.00</td>\n",
       "      <td>-117,806,997.00</td>\n",
       "      <td>5,000.00</td>\n",
       "      <td>60,590,218.12</td>\n",
       "      <td>16,764.00</td>\n",
       "      <td>...</td>\n",
       "      <td>1,969.00</td>\n",
       "      <td>114,089.00</td>\n",
       "      <td>390,018.00</td>\n",
       "      <td>2,016.00</td>\n",
       "      <td>275,929.00</td>\n",
       "      <td>4,507.96</td>\n",
       "      <td>0.05</td>\n",
       "      <td>2017-01-20</td>\n",
       "      <td>None</td>\n",
       "      <td>Orange</td>\n",
       "    </tr>\n",
       "    <tr>\n",
       "      <th>17283090</th>\n",
       "      <td>3.00</td>\n",
       "      <td>3.00</td>\n",
       "      <td>6.00</td>\n",
       "      <td>2,434.00</td>\n",
       "      <td>6,111.00</td>\n",
       "      <td>34,188,665.00</td>\n",
       "      <td>-118,847,985.00</td>\n",
       "      <td>23,559.00</td>\n",
       "      <td>61,110,072.01</td>\n",
       "      <td>34,278.00</td>\n",
       "      <td>...</td>\n",
       "      <td>1,963.00</td>\n",
       "      <td>410,651.00</td>\n",
       "      <td>821,302.00</td>\n",
       "      <td>2,016.00</td>\n",
       "      <td>410,651.00</td>\n",
       "      <td>8,723.76</td>\n",
       "      <td>-0.05</td>\n",
       "      <td>2017-04-18</td>\n",
       "      <td>None</td>\n",
       "      <td>Ventura</td>\n",
       "    </tr>\n",
       "  </tbody>\n",
       "</table>\n",
       "<p>5 rows × 24 columns</p>\n",
       "</div>"
      ],
      "text/plain": [
       "                  bathroomcnt           bedroomcnt  buildingqualitytypeid  \\\n",
       "parcelid                                                                    \n",
       "11858352                 2.00                 2.00                   4.00   \n",
       "12973126                 1.00                 3.00                   5.00   \n",
       "11462136                 4.00                 3.00                   8.00   \n",
       "14185846                 3.00                 5.00                   6.00   \n",
       "17283090                 3.00                 3.00                   6.00   \n",
       "\n",
       "          calculatedfinishedsquarefeet                 fips  \\\n",
       "parcelid                                                      \n",
       "11858352                      1,009.00             6,037.00   \n",
       "12973126                      2,520.00             6,037.00   \n",
       "11462136                      2,933.00             6,037.00   \n",
       "14185846                      1,802.00             6,059.00   \n",
       "17283090                      2,434.00             6,111.00   \n",
       "\n",
       "                     latitude            longitude    lotsizesquarefeet  \\\n",
       "parcelid                                                                  \n",
       "11858352        34,051,798.00      -118,094,002.00             8,913.00   \n",
       "12973126        34,125,398.00      -117,977,314.00            24,309.00   \n",
       "11462136        33,967,425.00      -118,419,624.00             6,440.00   \n",
       "14185846        33,869,239.00      -117,806,997.00             5,000.00   \n",
       "17283090        34,188,665.00      -118,847,985.00            23,559.00   \n",
       "\n",
       "          rawcensustractandblock         regionidcity  ...  \\\n",
       "parcelid                                               ...   \n",
       "11858352           60,374,825.21            54,212.00  ...   \n",
       "12973126           60,374,301.02            24,435.00  ...   \n",
       "11462136           60,372,765.00            12,447.00  ...   \n",
       "14185846           60,590,218.12            16,764.00  ...   \n",
       "17283090           61,110,072.01            34,278.00  ...   \n",
       "\n",
       "                    yearbuilt  structuretaxvaluedollarcnt  \\\n",
       "parcelid                                                    \n",
       "11858352             1,942.00                  103,809.00   \n",
       "12973126             1,906.00                  208,047.00   \n",
       "11462136             1,949.00                  218,848.00   \n",
       "14185846             1,969.00                  114,089.00   \n",
       "17283090             1,963.00                  410,651.00   \n",
       "\n",
       "            taxvaluedollarcnt       assessmentyear  landtaxvaluedollarcnt  \\\n",
       "parcelid                                                                    \n",
       "11858352           149,216.00             2,016.00              45,407.00   \n",
       "12973126           556,524.00             2,016.00             348,477.00   \n",
       "11462136           687,618.00             2,016.00             468,770.00   \n",
       "14185846           390,018.00             2,016.00             275,929.00   \n",
       "17283090           821,302.00             2,016.00             410,651.00   \n",
       "\n",
       "                    taxamount             logerror  transactiondate  \\\n",
       "parcelid                                                              \n",
       "11858352             2,026.32                 0.30       2017-05-31   \n",
       "12973126             7,160.29                 0.58       2017-01-13   \n",
       "11462136             8,322.18                -0.03       2017-02-22   \n",
       "14185846             4,507.96                 0.05       2017-01-20   \n",
       "17283090             8,723.76                -0.05       2017-04-18   \n",
       "\n",
       "          heatingorsystemdesc       county  \n",
       "parcelid                                    \n",
       "11858352           Floor/Wall  Los_Angeles  \n",
       "12973126           Floor/Wall  Los_Angeles  \n",
       "11462136              Central  Los_Angeles  \n",
       "14185846                 None       Orange  \n",
       "17283090                 None      Ventura  \n",
       "\n",
       "[5 rows x 24 columns]"
      ]
     },
     "execution_count": 10,
     "metadata": {},
     "output_type": "execute_result"
    }
   ],
   "source": [
    "train.head()"
   ]
  },
  {
   "cell_type": "code",
   "execution_count": 11,
   "metadata": {},
   "outputs": [
    {
     "data": {
      "text/plain": [
       "(39048, 24)"
      ]
     },
     "execution_count": 11,
     "metadata": {},
     "output_type": "execute_result"
    }
   ],
   "source": [
    "train.shape"
   ]
  },
  {
   "cell_type": "code",
   "execution_count": 12,
   "metadata": {},
   "outputs": [
    {
     "data": {
      "text/plain": [
       "(16736, 24)"
      ]
     },
     "execution_count": 12,
     "metadata": {},
     "output_type": "execute_result"
    }
   ],
   "source": [
    "validate.shape"
   ]
  },
  {
   "cell_type": "code",
   "execution_count": 13,
   "metadata": {},
   "outputs": [
    {
     "data": {
      "text/plain": [
       "(13946, 24)"
      ]
     },
     "execution_count": 13,
     "metadata": {},
     "output_type": "execute_result"
    }
   ],
   "source": [
    "test.shape"
   ]
  },
  {
   "cell_type": "markdown",
   "metadata": {},
   "source": [
    "# 1. Ask at least 5 questions about the data, keeping in mind that your target variable is logerror. e.g. Is logerror significantly different for properties in LA County vs Orange County vs Ventura County?"
   ]
  },
  {
   "cell_type": "markdown",
   "metadata": {},
   "source": [
    "# 2. Answer those questions through a mix of statistical tests and visualizations."
   ]
  },
  {
   "cell_type": "markdown",
   "metadata": {},
   "source": [
    "## Q1\n",
    "\n",
    "### - What is the distribution of all variables?"
   ]
  },
  {
   "cell_type": "code",
   "execution_count": 14,
   "metadata": {},
   "outputs": [
    {
     "data": {
      "image/png": "[encoded data removed]",
      "text/plain": [
       "<Figure size 288x144 with 1 Axes>"
      ]
     },
     "metadata": {
      "needs_background": "light"
     },
     "output_type": "display_data"
    },
    {
     "data": {
      "image/png": "[encoded data removed]",
      "text/plain": [
       "<Figure size 288x144 with 1 Axes>"
      ]
     },
     "metadata": {
      "needs_background": "light"
     },
     "output_type": "display_data"
    },
    {
     "data": {
      "image/png": "[encoded data removed]",
      "text/plain": [
       "<Figure size 288x144 with 1 Axes>"
      ]
     },
     "metadata": {
      "needs_background": "light"
     },
     "output_type": "display_data"
    },
    {
     "data": {
      "image/png": "[encoded data removed]",
      "text/plain": [
       "<Figure size 288x144 with 1 Axes>"
      ]
     },
     "metadata": {
      "needs_background": "light"
     },
     "output_type": "display_data"
    },
    {
     "data": {
      "image/png": "[encoded data removed]",
      "text/plain": [
       "<Figure size 288x144 with 1 Axes>"
      ]
     },
     "metadata": {
      "needs_background": "light"
     },
     "output_type": "display_data"
    },
    {
     "data": {
      "image/png": "[encoded data removed]",
      "text/plain": [
       "<Figure size 288x144 with 1 Axes>"
      ]
     },
     "metadata": {
      "needs_background": "light"
     },
     "output_type": "display_data"
    },
    {
     "data": {
      "image/png": "[encoded data removed]",
      "text/plain": [
       "<Figure size 288x144 with 1 Axes>"
      ]
     },
     "metadata": {
      "needs_background": "light"
     },
     "output_type": "display_data"
    },
    {
     "data": {
      "image/png": "[encoded data removed]",
      "text/plain": [
       "<Figure size 288x144 with 1 Axes>"
      ]
     },
     "metadata": {
      "needs_background": "light"
     },
     "output_type": "display_data"
    },
    {
     "data": {
      "image/png": "[encoded data removed]",
      "text/plain": [
       "<Figure size 288x144 with 1 Axes>"
      ]
     },
     "metadata": {
      "needs_background": "light"
     },
     "output_type": "display_data"
    },
    {
     "data": {
      "image/png": "[encoded data removed]",
      "text/plain": [
       "<Figure size 288x144 with 1 Axes>"
      ]
     },
     "metadata": {
      "needs_background": "light"
     },
     "output_type": "display_data"
    },
    {
     "data": {
      "image/png": "[encoded data removed]",
      "text/plain": [
       "<Figure size 288x144 with 1 Axes>"
      ]
     },
     "metadata": {
      "needs_background": "light"
     },
     "output_type": "display_data"
    },
    {
     "data": {
      "image/png": "[encoded data removed]",
      "text/plain": [
       "<Figure size 288x144 with 1 Axes>"
      ]
     },
     "metadata": {
      "needs_background": "light"
     },
     "output_type": "display_data"
    },
    {
     "data": {
      "image/png": "[encoded data removed]",
      "text/plain": [
       "<Figure size 288x144 with 1 Axes>"
      ]
     },
     "metadata": {
      "needs_background": "light"
     },
     "output_type": "display_data"
    },
    {
     "data": {
      "image/png": "[encoded data removed]",
      "text/plain": [
       "<Figure size 288x144 with 1 Axes>"
      ]
     },
     "metadata": {
      "needs_background": "light"
     },
     "output_type": "display_data"
    },
    {
     "data": {
      "image/png": "[encoded data removed]",
      "text/plain": [
       "<Figure size 288x144 with 1 Axes>"
      ]
     },
     "metadata": {
      "needs_background": "light"
     },
     "output_type": "display_data"
    },
    {
     "data": {
      "image/png": "[encoded data removed]",
      "text/plain": [
       "<Figure size 288x144 with 1 Axes>"
      ]
     },
     "metadata": {
      "needs_background": "light"
     },
     "output_type": "display_data"
    },
    {
     "data": {
      "image/png": "[encoded data removed]",
      "text/plain": [
       "<Figure size 288x144 with 1 Axes>"
      ]
     },
     "metadata": {
      "needs_background": "light"
     },
     "output_type": "display_data"
    },
    {
     "data": {
      "image/png": "[encoded data removed]",
      "text/plain": [
       "<Figure size 288x144 with 1 Axes>"
      ]
     },
     "metadata": {
      "needs_background": "light"
     },
     "output_type": "display_data"
    },
    {
     "data": {
      "image/png": "[encoded data removed]",
      "text/plain": [
       "<Figure size 288x144 with 1 Axes>"
      ]
     },
     "metadata": {
      "needs_background": "light"
     },
     "output_type": "display_data"
    },
    {
     "data": {
      "image/png": "[encoded data removed]",
      "text/plain": [
       "<Figure size 288x144 with 1 Axes>"
      ]
     },
     "metadata": {
      "needs_background": "light"
     },
     "output_type": "display_data"
    },
    {
     "data": {
      "image/png": "[encoded data removed]",
      "text/plain": [
       "<Figure size 288x144 with 1 Axes>"
      ]
     },
     "metadata": {
      "needs_background": "light"
     },
     "output_type": "display_data"
    },
    {
     "data": {
      "image/png": "[encoded data removed]",
      "text/plain": [
       "<Figure size 288x144 with 1 Axes>"
      ]
     },
     "metadata": {
      "needs_background": "light"
     },
     "output_type": "display_data"
    },
    {
     "data": {
      "image/png": "[encoded data removed]",
      "text/plain": [
       "<Figure size 288x144 with 1 Axes>"
      ]
     },
     "metadata": {
      "needs_background": "light"
     },
     "output_type": "display_data"
    },
    {
     "data": {
      "image/png": "[encoded data removed]",
      "text/plain": [
       "<Figure size 288x144 with 1 Axes>"
      ]
     },
     "metadata": {
      "needs_background": "light"
     },
     "output_type": "display_data"
    }
   ],
   "source": [
    "for col in train.columns:\n",
    "    plt.figure(figsize=(4,2))\n",
    "    plt.hist(train[col])\n",
    "    plt.title(col)\n",
    "    plt.show()"
   ]
  },
  {
   "cell_type": "code",
   "execution_count": 15,
   "metadata": {},
   "outputs": [
    {
     "data": {
      "text/plain": [
       "['bathroomcnt',\n",
       " 'bedroomcnt',\n",
       " 'buildingqualitytypeid',\n",
       " 'calculatedfinishedsquarefeet',\n",
       " 'fips',\n",
       " 'latitude',\n",
       " 'longitude',\n",
       " 'lotsizesquarefeet',\n",
       " 'rawcensustractandblock',\n",
       " 'regionidcity',\n",
       " 'regionidcounty',\n",
       " 'regionidzip',\n",
       " 'roomcnt',\n",
       " 'unitcnt',\n",
       " 'yearbuilt',\n",
       " 'structuretaxvaluedollarcnt',\n",
       " 'taxvaluedollarcnt',\n",
       " 'assessmentyear',\n",
       " 'landtaxvaluedollarcnt',\n",
       " 'taxamount',\n",
       " 'logerror',\n",
       " 'transactiondate',\n",
       " 'heatingorsystemdesc',\n",
       " 'county']"
      ]
     },
     "execution_count": 15,
     "metadata": {},
     "output_type": "execute_result"
    }
   ],
   "source": [
    "list(train.columns)"
   ]
  },
  {
   "cell_type": "code",
   "execution_count": 16,
   "metadata": {},
   "outputs": [],
   "source": [
    "cat_vars = ['buildingqualitytypeid', 'fips', 'rawcensustractandblock', 'regionidcity', 'regionidcounty', 'regionidzip', 'unitcnt', 'assessmentyear', 'heatingorsystemdesc', 'county']\n",
    "\n",
    "quant_vars = ['bathroomcnt', 'bedroomcnt', 'calculatedfinishedsquarefeet', 'latitude', 'longitude', 'lotsizesquarefeet', 'roomcnt', 'yearbuilt', 'structuretaxvaluedollarcnt', 'taxvaluedollarcnt', 'landtaxvaluedollarcnt', 'taxamount', 'logerror', 'transactiondate']"
   ]
  },
  {
   "cell_type": "code",
   "execution_count": 17,
   "metadata": {},
   "outputs": [],
   "source": [
    "### takeaways:\n",
    "\n",
    "## - tax related variables may have outliers\n",
    "\n",
    "## - most variables skewed to the right\n",
    "\n",
    "## - yearbuilt skewed to the left however"
   ]
  },
  {
   "cell_type": "markdown",
   "metadata": {},
   "source": [
    "## Q2\n",
    "\n",
    "### - Does logerror distrtibution vary by county?"
   ]
  },
  {
   "cell_type": "code",
   "execution_count": 18,
   "metadata": {},
   "outputs": [
    {
     "data": {
      "image/png": "[encoded data removed]",
      "text/plain": [
       "<Figure size 432x288 with 1 Axes>"
      ]
     },
     "metadata": {
      "needs_background": "light"
     },
     "output_type": "display_data"
    }
   ],
   "source": [
    "sns.scatterplot(x='logerror', y='taxamount',\n",
    "               data=train, hue='county')\n",
    "plt.title(\"How does logerror compare to taxamount \\nwithin each county?\")\n",
    "plt.show()"
   ]
  },
  {
   "cell_type": "code",
   "execution_count": 19,
   "metadata": {},
   "outputs": [
    {
     "data": {
      "image/png": "[encoded data removed]",
      "text/plain": [
       "<Figure size 432x288 with 1 Axes>"
      ]
     },
     "metadata": {
      "needs_background": "light"
     },
     "output_type": "display_data"
    }
   ],
   "source": [
    "sns.scatterplot(x='logerror', y='lotsizesquarefeet',\n",
    "               data=train, hue='county')\n",
    "plt.title(\"How does logerror compare to lotsizesquarefeet \\nwithin each county?\")\n",
    "plt.show()"
   ]
  },
  {
   "cell_type": "code",
   "execution_count": 20,
   "metadata": {},
   "outputs": [],
   "source": [
    "### takeaways:\n",
    "\n",
    "## - Los Angeles seems to have the most significant logerrors with lower value homes\n",
    "\n",
    "## - all counties have larger logerrors the less the home is worth\n",
    "\n",
    "## - all counties have larger logerror the smaller the home is in sq ft"
   ]
  },
  {
   "cell_type": "markdown",
   "metadata": {},
   "source": [
    "## Q3\n",
    "\n",
    "### - Is there a diferrence in logerror for homes in different price brackets?"
   ]
  },
  {
   "cell_type": "code",
   "execution_count": 21,
   "metadata": {},
   "outputs": [
    {
     "data": {
      "text/plain": [
       "4363.79"
      ]
     },
     "execution_count": 21,
     "metadata": {},
     "output_type": "execute_result"
    }
   ],
   "source": [
    "train.taxamount.median()"
   ]
  },
  {
   "cell_type": "code",
   "execution_count": 22,
   "metadata": {},
   "outputs": [],
   "source": [
    "median = train.taxamount.median()"
   ]
  },
  {
   "cell_type": "code",
   "execution_count": 23,
   "metadata": {},
   "outputs": [],
   "source": [
    "train['greater_than_median'] = train.taxamount > median"
   ]
  },
  {
   "cell_type": "code",
   "execution_count": 24,
   "metadata": {},
   "outputs": [
    {
     "data": {
      "text/html": [
       "<div>\n",
       "<style scoped>\n",
       "    .dataframe tbody tr th:only-of-type {\n",
       "        vertical-align: middle;\n",
       "    }\n",
       "\n",
       "    .dataframe tbody tr th {\n",
       "        vertical-align: top;\n",
       "    }\n",
       "\n",
       "    .dataframe thead th {\n",
       "        text-align: right;\n",
       "    }\n",
       "</style>\n",
       "<table border=\"1\" class=\"dataframe\">\n",
       "  <thead>\n",
       "    <tr style=\"text-align: right;\">\n",
       "      <th></th>\n",
       "      <th>bathroomcnt</th>\n",
       "      <th>bedroomcnt</th>\n",
       "      <th>buildingqualitytypeid</th>\n",
       "      <th>calculatedfinishedsquarefeet</th>\n",
       "      <th>fips</th>\n",
       "      <th>latitude</th>\n",
       "      <th>longitude</th>\n",
       "      <th>lotsizesquarefeet</th>\n",
       "      <th>rawcensustractandblock</th>\n",
       "      <th>regionidcity</th>\n",
       "      <th>...</th>\n",
       "      <th>structuretaxvaluedollarcnt</th>\n",
       "      <th>taxvaluedollarcnt</th>\n",
       "      <th>assessmentyear</th>\n",
       "      <th>landtaxvaluedollarcnt</th>\n",
       "      <th>taxamount</th>\n",
       "      <th>logerror</th>\n",
       "      <th>transactiondate</th>\n",
       "      <th>heatingorsystemdesc</th>\n",
       "      <th>county</th>\n",
       "      <th>greater_than_median</th>\n",
       "    </tr>\n",
       "    <tr>\n",
       "      <th>parcelid</th>\n",
       "      <th></th>\n",
       "      <th></th>\n",
       "      <th></th>\n",
       "      <th></th>\n",
       "      <th></th>\n",
       "      <th></th>\n",
       "      <th></th>\n",
       "      <th></th>\n",
       "      <th></th>\n",
       "      <th></th>\n",
       "      <th></th>\n",
       "      <th></th>\n",
       "      <th></th>\n",
       "      <th></th>\n",
       "      <th></th>\n",
       "      <th></th>\n",
       "      <th></th>\n",
       "      <th></th>\n",
       "      <th></th>\n",
       "      <th></th>\n",
       "      <th></th>\n",
       "    </tr>\n",
       "  </thead>\n",
       "  <tbody>\n",
       "    <tr>\n",
       "      <th>11858352</th>\n",
       "      <td>2.00</td>\n",
       "      <td>2.00</td>\n",
       "      <td>4.00</td>\n",
       "      <td>1,009.00</td>\n",
       "      <td>6,037.00</td>\n",
       "      <td>34,051,798.00</td>\n",
       "      <td>-118,094,002.00</td>\n",
       "      <td>8,913.00</td>\n",
       "      <td>60,374,825.21</td>\n",
       "      <td>54,212.00</td>\n",
       "      <td>...</td>\n",
       "      <td>103,809.00</td>\n",
       "      <td>149,216.00</td>\n",
       "      <td>2,016.00</td>\n",
       "      <td>45,407.00</td>\n",
       "      <td>2,026.32</td>\n",
       "      <td>0.30</td>\n",
       "      <td>2017-05-31</td>\n",
       "      <td>Floor/Wall</td>\n",
       "      <td>Los_Angeles</td>\n",
       "      <td>False</td>\n",
       "    </tr>\n",
       "    <tr>\n",
       "      <th>12973126</th>\n",
       "      <td>1.00</td>\n",
       "      <td>3.00</td>\n",
       "      <td>5.00</td>\n",
       "      <td>2,520.00</td>\n",
       "      <td>6,037.00</td>\n",
       "      <td>34,125,398.00</td>\n",
       "      <td>-117,977,314.00</td>\n",
       "      <td>24,309.00</td>\n",
       "      <td>60,374,301.02</td>\n",
       "      <td>24,435.00</td>\n",
       "      <td>...</td>\n",
       "      <td>208,047.00</td>\n",
       "      <td>556,524.00</td>\n",
       "      <td>2,016.00</td>\n",
       "      <td>348,477.00</td>\n",
       "      <td>7,160.29</td>\n",
       "      <td>0.58</td>\n",
       "      <td>2017-01-13</td>\n",
       "      <td>Floor/Wall</td>\n",
       "      <td>Los_Angeles</td>\n",
       "      <td>True</td>\n",
       "    </tr>\n",
       "    <tr>\n",
       "      <th>11462136</th>\n",
       "      <td>4.00</td>\n",
       "      <td>3.00</td>\n",
       "      <td>8.00</td>\n",
       "      <td>2,933.00</td>\n",
       "      <td>6,037.00</td>\n",
       "      <td>33,967,425.00</td>\n",
       "      <td>-118,419,624.00</td>\n",
       "      <td>6,440.00</td>\n",
       "      <td>60,372,765.00</td>\n",
       "      <td>12,447.00</td>\n",
       "      <td>...</td>\n",
       "      <td>218,848.00</td>\n",
       "      <td>687,618.00</td>\n",
       "      <td>2,016.00</td>\n",
       "      <td>468,770.00</td>\n",
       "      <td>8,322.18</td>\n",
       "      <td>-0.03</td>\n",
       "      <td>2017-02-22</td>\n",
       "      <td>Central</td>\n",
       "      <td>Los_Angeles</td>\n",
       "      <td>True</td>\n",
       "    </tr>\n",
       "    <tr>\n",
       "      <th>14185846</th>\n",
       "      <td>3.00</td>\n",
       "      <td>5.00</td>\n",
       "      <td>6.00</td>\n",
       "      <td>1,802.00</td>\n",
       "      <td>6,059.00</td>\n",
       "      <td>33,869,239.00</td>\n",
       "      <td>-117,806,997.00</td>\n",
       "      <td>5,000.00</td>\n",
       "      <td>60,590,218.12</td>\n",
       "      <td>16,764.00</td>\n",
       "      <td>...</td>\n",
       "      <td>114,089.00</td>\n",
       "      <td>390,018.00</td>\n",
       "      <td>2,016.00</td>\n",
       "      <td>275,929.00</td>\n",
       "      <td>4,507.96</td>\n",
       "      <td>0.05</td>\n",
       "      <td>2017-01-20</td>\n",
       "      <td>None</td>\n",
       "      <td>Orange</td>\n",
       "      <td>True</td>\n",
       "    </tr>\n",
       "    <tr>\n",
       "      <th>17283090</th>\n",
       "      <td>3.00</td>\n",
       "      <td>3.00</td>\n",
       "      <td>6.00</td>\n",
       "      <td>2,434.00</td>\n",
       "      <td>6,111.00</td>\n",
       "      <td>34,188,665.00</td>\n",
       "      <td>-118,847,985.00</td>\n",
       "      <td>23,559.00</td>\n",
       "      <td>61,110,072.01</td>\n",
       "      <td>34,278.00</td>\n",
       "      <td>...</td>\n",
       "      <td>410,651.00</td>\n",
       "      <td>821,302.00</td>\n",
       "      <td>2,016.00</td>\n",
       "      <td>410,651.00</td>\n",
       "      <td>8,723.76</td>\n",
       "      <td>-0.05</td>\n",
       "      <td>2017-04-18</td>\n",
       "      <td>None</td>\n",
       "      <td>Ventura</td>\n",
       "      <td>True</td>\n",
       "    </tr>\n",
       "  </tbody>\n",
       "</table>\n",
       "<p>5 rows × 25 columns</p>\n",
       "</div>"
      ],
      "text/plain": [
       "                  bathroomcnt           bedroomcnt  buildingqualitytypeid  \\\n",
       "parcelid                                                                    \n",
       "11858352                 2.00                 2.00                   4.00   \n",
       "12973126                 1.00                 3.00                   5.00   \n",
       "11462136                 4.00                 3.00                   8.00   \n",
       "14185846                 3.00                 5.00                   6.00   \n",
       "17283090                 3.00                 3.00                   6.00   \n",
       "\n",
       "          calculatedfinishedsquarefeet                 fips  \\\n",
       "parcelid                                                      \n",
       "11858352                      1,009.00             6,037.00   \n",
       "12973126                      2,520.00             6,037.00   \n",
       "11462136                      2,933.00             6,037.00   \n",
       "14185846                      1,802.00             6,059.00   \n",
       "17283090                      2,434.00             6,111.00   \n",
       "\n",
       "                     latitude            longitude    lotsizesquarefeet  \\\n",
       "parcelid                                                                  \n",
       "11858352        34,051,798.00      -118,094,002.00             8,913.00   \n",
       "12973126        34,125,398.00      -117,977,314.00            24,309.00   \n",
       "11462136        33,967,425.00      -118,419,624.00             6,440.00   \n",
       "14185846        33,869,239.00      -117,806,997.00             5,000.00   \n",
       "17283090        34,188,665.00      -118,847,985.00            23,559.00   \n",
       "\n",
       "          rawcensustractandblock         regionidcity  ...  \\\n",
       "parcelid                                               ...   \n",
       "11858352           60,374,825.21            54,212.00  ...   \n",
       "12973126           60,374,301.02            24,435.00  ...   \n",
       "11462136           60,372,765.00            12,447.00  ...   \n",
       "14185846           60,590,218.12            16,764.00  ...   \n",
       "17283090           61,110,072.01            34,278.00  ...   \n",
       "\n",
       "          structuretaxvaluedollarcnt    taxvaluedollarcnt  \\\n",
       "parcelid                                                    \n",
       "11858352                  103,809.00           149,216.00   \n",
       "12973126                  208,047.00           556,524.00   \n",
       "11462136                  218,848.00           687,618.00   \n",
       "14185846                  114,089.00           390,018.00   \n",
       "17283090                  410,651.00           821,302.00   \n",
       "\n",
       "               assessmentyear  landtaxvaluedollarcnt            taxamount  \\\n",
       "parcelid                                                                    \n",
       "11858352             2,016.00              45,407.00             2,026.32   \n",
       "12973126             2,016.00             348,477.00             7,160.29   \n",
       "11462136             2,016.00             468,770.00             8,322.18   \n",
       "14185846             2,016.00             275,929.00             4,507.96   \n",
       "17283090             2,016.00             410,651.00             8,723.76   \n",
       "\n",
       "                     logerror  transactiondate  heatingorsystemdesc  \\\n",
       "parcelid                                                              \n",
       "11858352                 0.30       2017-05-31           Floor/Wall   \n",
       "12973126                 0.58       2017-01-13           Floor/Wall   \n",
       "11462136                -0.03       2017-02-22              Central   \n",
       "14185846                 0.05       2017-01-20                 None   \n",
       "17283090                -0.05       2017-04-18                 None   \n",
       "\n",
       "               county  greater_than_median  \n",
       "parcelid                                    \n",
       "11858352  Los_Angeles                False  \n",
       "12973126  Los_Angeles                 True  \n",
       "11462136  Los_Angeles                 True  \n",
       "14185846       Orange                 True  \n",
       "17283090      Ventura                 True  \n",
       "\n",
       "[5 rows x 25 columns]"
      ]
     },
     "execution_count": 24,
     "metadata": {},
     "output_type": "execute_result"
    }
   ],
   "source": [
    "train.head()"
   ]
  },
  {
   "cell_type": "code",
   "execution_count": 25,
   "metadata": {},
   "outputs": [
    {
     "data": {
      "image/png": "[encoded data removed]",
      "text/plain": [
       "<Figure size 432x288 with 1 Axes>"
      ]
     },
     "metadata": {
      "needs_background": "light"
     },
     "output_type": "display_data"
    }
   ],
   "source": [
    "sns.scatterplot(x='logerror', y='taxamount',\n",
    "               data=train, hue='greater_than_median')\n",
    "plt.title(\"How does logerror compare to taxamount \\nfor homes greater than and less than the tax median?\")\n",
    "plt.show()"
   ]
  },
  {
   "cell_type": "code",
   "execution_count": 26,
   "metadata": {},
   "outputs": [],
   "source": [
    "H0 = 'there is no difference in the logerror of houses greater than and less than the tax amount median'\n",
    "\n",
    "H1 = 'there is a difference in the logerror of houses greater than and less than the tax amount median'\n",
    "\n",
    "alpha = .05"
   ]
  },
  {
   "cell_type": "code",
   "execution_count": 27,
   "metadata": {},
   "outputs": [
    {
     "data": {
      "text/plain": [
       "Ttest_indResult(statistic=-1.676478766613854, pvalue=0.09365246215955612)"
      ]
     },
     "execution_count": 27,
     "metadata": {},
     "output_type": "execute_result"
    }
   ],
   "source": [
    "stats.ttest_ind(train[train.greater_than_median == True].logerror, \n",
    "                train[train.greater_than_median == False].logerror,\n",
    "                equal_var=False\n",
    "               )"
   ]
  },
  {
   "cell_type": "code",
   "execution_count": 28,
   "metadata": {},
   "outputs": [],
   "source": [
    "## p value is greater than alpha, we are unable to reject the null"
   ]
  },
  {
   "cell_type": "markdown",
   "metadata": {},
   "source": [
    "## Q4\n",
    "\n",
    "### - Is there a diferrence in logerror for homes in different lot size brackets?"
   ]
  },
  {
   "cell_type": "code",
   "execution_count": 29,
   "metadata": {},
   "outputs": [
    {
     "data": {
      "text/plain": [
       "count              39,048.00\n",
       "mean               27,711.01\n",
       "std               127,832.00\n",
       "min                   435.00\n",
       "25%                 6,000.00\n",
       "50%                 7,313.00\n",
       "75%                10,672.00\n",
       "max             6,971,010.00\n",
       "Name: lotsizesquarefeet, dtype: float64"
      ]
     },
     "execution_count": 29,
     "metadata": {},
     "output_type": "execute_result"
    }
   ],
   "source": [
    "train.lotsizesquarefeet.describe()"
   ]
  },
  {
   "cell_type": "code",
   "execution_count": 30,
   "metadata": {},
   "outputs": [],
   "source": [
    "train['lot_bin'] = pd.cut(train.lotsizesquarefeet, [0, 6000.00, 7313.00, 10672.00, 6971010.00])"
   ]
  },
  {
   "cell_type": "code",
   "execution_count": 31,
   "metadata": {},
   "outputs": [
    {
     "data": {
      "text/html": [
       "<div>\n",
       "<style scoped>\n",
       "    .dataframe tbody tr th:only-of-type {\n",
       "        vertical-align: middle;\n",
       "    }\n",
       "\n",
       "    .dataframe tbody tr th {\n",
       "        vertical-align: top;\n",
       "    }\n",
       "\n",
       "    .dataframe thead th {\n",
       "        text-align: right;\n",
       "    }\n",
       "</style>\n",
       "<table border=\"1\" class=\"dataframe\">\n",
       "  <thead>\n",
       "    <tr style=\"text-align: right;\">\n",
       "      <th></th>\n",
       "      <th>bathroomcnt</th>\n",
       "      <th>bedroomcnt</th>\n",
       "      <th>buildingqualitytypeid</th>\n",
       "      <th>calculatedfinishedsquarefeet</th>\n",
       "      <th>fips</th>\n",
       "      <th>latitude</th>\n",
       "      <th>longitude</th>\n",
       "      <th>lotsizesquarefeet</th>\n",
       "      <th>rawcensustractandblock</th>\n",
       "      <th>regionidcity</th>\n",
       "      <th>...</th>\n",
       "      <th>taxvaluedollarcnt</th>\n",
       "      <th>assessmentyear</th>\n",
       "      <th>landtaxvaluedollarcnt</th>\n",
       "      <th>taxamount</th>\n",
       "      <th>logerror</th>\n",
       "      <th>transactiondate</th>\n",
       "      <th>heatingorsystemdesc</th>\n",
       "      <th>county</th>\n",
       "      <th>greater_than_median</th>\n",
       "      <th>lot_bin</th>\n",
       "    </tr>\n",
       "    <tr>\n",
       "      <th>parcelid</th>\n",
       "      <th></th>\n",
       "      <th></th>\n",
       "      <th></th>\n",
       "      <th></th>\n",
       "      <th></th>\n",
       "      <th></th>\n",
       "      <th></th>\n",
       "      <th></th>\n",
       "      <th></th>\n",
       "      <th></th>\n",
       "      <th></th>\n",
       "      <th></th>\n",
       "      <th></th>\n",
       "      <th></th>\n",
       "      <th></th>\n",
       "      <th></th>\n",
       "      <th></th>\n",
       "      <th></th>\n",
       "      <th></th>\n",
       "      <th></th>\n",
       "      <th></th>\n",
       "    </tr>\n",
       "  </thead>\n",
       "  <tbody>\n",
       "    <tr>\n",
       "      <th>11858352</th>\n",
       "      <td>2.00</td>\n",
       "      <td>2.00</td>\n",
       "      <td>4.00</td>\n",
       "      <td>1,009.00</td>\n",
       "      <td>6,037.00</td>\n",
       "      <td>34,051,798.00</td>\n",
       "      <td>-118,094,002.00</td>\n",
       "      <td>8,913.00</td>\n",
       "      <td>60,374,825.21</td>\n",
       "      <td>54,212.00</td>\n",
       "      <td>...</td>\n",
       "      <td>149,216.00</td>\n",
       "      <td>2,016.00</td>\n",
       "      <td>45,407.00</td>\n",
       "      <td>2,026.32</td>\n",
       "      <td>0.30</td>\n",
       "      <td>2017-05-31</td>\n",
       "      <td>Floor/Wall</td>\n",
       "      <td>Los_Angeles</td>\n",
       "      <td>False</td>\n",
       "      <td>(7313.0, 10672.0]</td>\n",
       "    </tr>\n",
       "    <tr>\n",
       "      <th>12973126</th>\n",
       "      <td>1.00</td>\n",
       "      <td>3.00</td>\n",
       "      <td>5.00</td>\n",
       "      <td>2,520.00</td>\n",
       "      <td>6,037.00</td>\n",
       "      <td>34,125,398.00</td>\n",
       "      <td>-117,977,314.00</td>\n",
       "      <td>24,309.00</td>\n",
       "      <td>60,374,301.02</td>\n",
       "      <td>24,435.00</td>\n",
       "      <td>...</td>\n",
       "      <td>556,524.00</td>\n",
       "      <td>2,016.00</td>\n",
       "      <td>348,477.00</td>\n",
       "      <td>7,160.29</td>\n",
       "      <td>0.58</td>\n",
       "      <td>2017-01-13</td>\n",
       "      <td>Floor/Wall</td>\n",
       "      <td>Los_Angeles</td>\n",
       "      <td>True</td>\n",
       "      <td>(10672.0, 6971010.0]</td>\n",
       "    </tr>\n",
       "    <tr>\n",
       "      <th>11462136</th>\n",
       "      <td>4.00</td>\n",
       "      <td>3.00</td>\n",
       "      <td>8.00</td>\n",
       "      <td>2,933.00</td>\n",
       "      <td>6,037.00</td>\n",
       "      <td>33,967,425.00</td>\n",
       "      <td>-118,419,624.00</td>\n",
       "      <td>6,440.00</td>\n",
       "      <td>60,372,765.00</td>\n",
       "      <td>12,447.00</td>\n",
       "      <td>...</td>\n",
       "      <td>687,618.00</td>\n",
       "      <td>2,016.00</td>\n",
       "      <td>468,770.00</td>\n",
       "      <td>8,322.18</td>\n",
       "      <td>-0.03</td>\n",
       "      <td>2017-02-22</td>\n",
       "      <td>Central</td>\n",
       "      <td>Los_Angeles</td>\n",
       "      <td>True</td>\n",
       "      <td>(6000.0, 7313.0]</td>\n",
       "    </tr>\n",
       "    <tr>\n",
       "      <th>14185846</th>\n",
       "      <td>3.00</td>\n",
       "      <td>5.00</td>\n",
       "      <td>6.00</td>\n",
       "      <td>1,802.00</td>\n",
       "      <td>6,059.00</td>\n",
       "      <td>33,869,239.00</td>\n",
       "      <td>-117,806,997.00</td>\n",
       "      <td>5,000.00</td>\n",
       "      <td>60,590,218.12</td>\n",
       "      <td>16,764.00</td>\n",
       "      <td>...</td>\n",
       "      <td>390,018.00</td>\n",
       "      <td>2,016.00</td>\n",
       "      <td>275,929.00</td>\n",
       "      <td>4,507.96</td>\n",
       "      <td>0.05</td>\n",
       "      <td>2017-01-20</td>\n",
       "      <td>None</td>\n",
       "      <td>Orange</td>\n",
       "      <td>True</td>\n",
       "      <td>(0.0, 6000.0]</td>\n",
       "    </tr>\n",
       "    <tr>\n",
       "      <th>17283090</th>\n",
       "      <td>3.00</td>\n",
       "      <td>3.00</td>\n",
       "      <td>6.00</td>\n",
       "      <td>2,434.00</td>\n",
       "      <td>6,111.00</td>\n",
       "      <td>34,188,665.00</td>\n",
       "      <td>-118,847,985.00</td>\n",
       "      <td>23,559.00</td>\n",
       "      <td>61,110,072.01</td>\n",
       "      <td>34,278.00</td>\n",
       "      <td>...</td>\n",
       "      <td>821,302.00</td>\n",
       "      <td>2,016.00</td>\n",
       "      <td>410,651.00</td>\n",
       "      <td>8,723.76</td>\n",
       "      <td>-0.05</td>\n",
       "      <td>2017-04-18</td>\n",
       "      <td>None</td>\n",
       "      <td>Ventura</td>\n",
       "      <td>True</td>\n",
       "      <td>(10672.0, 6971010.0]</td>\n",
       "    </tr>\n",
       "  </tbody>\n",
       "</table>\n",
       "<p>5 rows × 26 columns</p>\n",
       "</div>"
      ],
      "text/plain": [
       "                  bathroomcnt           bedroomcnt  buildingqualitytypeid  \\\n",
       "parcelid                                                                    \n",
       "11858352                 2.00                 2.00                   4.00   \n",
       "12973126                 1.00                 3.00                   5.00   \n",
       "11462136                 4.00                 3.00                   8.00   \n",
       "14185846                 3.00                 5.00                   6.00   \n",
       "17283090                 3.00                 3.00                   6.00   \n",
       "\n",
       "          calculatedfinishedsquarefeet                 fips  \\\n",
       "parcelid                                                      \n",
       "11858352                      1,009.00             6,037.00   \n",
       "12973126                      2,520.00             6,037.00   \n",
       "11462136                      2,933.00             6,037.00   \n",
       "14185846                      1,802.00             6,059.00   \n",
       "17283090                      2,434.00             6,111.00   \n",
       "\n",
       "                     latitude            longitude    lotsizesquarefeet  \\\n",
       "parcelid                                                                  \n",
       "11858352        34,051,798.00      -118,094,002.00             8,913.00   \n",
       "12973126        34,125,398.00      -117,977,314.00            24,309.00   \n",
       "11462136        33,967,425.00      -118,419,624.00             6,440.00   \n",
       "14185846        33,869,239.00      -117,806,997.00             5,000.00   \n",
       "17283090        34,188,665.00      -118,847,985.00            23,559.00   \n",
       "\n",
       "          rawcensustractandblock         regionidcity  ...  \\\n",
       "parcelid                                               ...   \n",
       "11858352           60,374,825.21            54,212.00  ...   \n",
       "12973126           60,374,301.02            24,435.00  ...   \n",
       "11462136           60,372,765.00            12,447.00  ...   \n",
       "14185846           60,590,218.12            16,764.00  ...   \n",
       "17283090           61,110,072.01            34,278.00  ...   \n",
       "\n",
       "            taxvaluedollarcnt       assessmentyear  landtaxvaluedollarcnt  \\\n",
       "parcelid                                                                    \n",
       "11858352           149,216.00             2,016.00              45,407.00   \n",
       "12973126           556,524.00             2,016.00             348,477.00   \n",
       "11462136           687,618.00             2,016.00             468,770.00   \n",
       "14185846           390,018.00             2,016.00             275,929.00   \n",
       "17283090           821,302.00             2,016.00             410,651.00   \n",
       "\n",
       "                    taxamount             logerror  transactiondate  \\\n",
       "parcelid                                                              \n",
       "11858352             2,026.32                 0.30       2017-05-31   \n",
       "12973126             7,160.29                 0.58       2017-01-13   \n",
       "11462136             8,322.18                -0.03       2017-02-22   \n",
       "14185846             4,507.96                 0.05       2017-01-20   \n",
       "17283090             8,723.76                -0.05       2017-04-18   \n",
       "\n",
       "          heatingorsystemdesc       county  greater_than_median  \\\n",
       "parcelid                                                          \n",
       "11858352           Floor/Wall  Los_Angeles                False   \n",
       "12973126           Floor/Wall  Los_Angeles                 True   \n",
       "11462136              Central  Los_Angeles                 True   \n",
       "14185846                 None       Orange                 True   \n",
       "17283090                 None      Ventura                 True   \n",
       "\n",
       "                       lot_bin  \n",
       "parcelid                        \n",
       "11858352     (7313.0, 10672.0]  \n",
       "12973126  (10672.0, 6971010.0]  \n",
       "11462136      (6000.0, 7313.0]  \n",
       "14185846         (0.0, 6000.0]  \n",
       "17283090  (10672.0, 6971010.0]  \n",
       "\n",
       "[5 rows x 26 columns]"
      ]
     },
     "execution_count": 31,
     "metadata": {},
     "output_type": "execute_result"
    }
   ],
   "source": [
    "train.head()"
   ]
  },
  {
   "cell_type": "code",
   "execution_count": 32,
   "metadata": {},
   "outputs": [
    {
     "data": {
      "image/png": "[encoded data removed]",
      "text/plain": [
       "<Figure size 432x288 with 1 Axes>"
      ]
     },
     "metadata": {
      "needs_background": "light"
     },
     "output_type": "display_data"
    }
   ],
   "source": [
    "sns.scatterplot(x='logerror', y='lotsizesquarefeet',\n",
    "               data=train, hue='lot_bin')\n",
    "plt.title(\"How does logerror compare to lotsizesquarefeet \\nwithin each bracket?\")\n",
    "plt.show()"
   ]
  },
  {
   "cell_type": "code",
   "execution_count": 33,
   "metadata": {},
   "outputs": [],
   "source": [
    "H0 = '''there is no difference in the logerror between homes in the 4th quartile of lot size \n",
    "        and the general population'''\n",
    "\n",
    "H1 = '''there is a difference in the logerror between homes in the 4th quartile of lot size \n",
    "        and the general population'''\n",
    "\n",
    "alpha = .05"
   ]
  },
  {
   "cell_type": "code",
   "execution_count": 34,
   "metadata": {},
   "outputs": [],
   "source": [
    "q4 = train[train.lotsizesquarefeet > 10672.00]"
   ]
  },
  {
   "cell_type": "code",
   "execution_count": 35,
   "metadata": {},
   "outputs": [
    {
     "data": {
      "text/html": [
       "<div>\n",
       "<style scoped>\n",
       "    .dataframe tbody tr th:only-of-type {\n",
       "        vertical-align: middle;\n",
       "    }\n",
       "\n",
       "    .dataframe tbody tr th {\n",
       "        vertical-align: top;\n",
       "    }\n",
       "\n",
       "    .dataframe thead th {\n",
       "        text-align: right;\n",
       "    }\n",
       "</style>\n",
       "<table border=\"1\" class=\"dataframe\">\n",
       "  <thead>\n",
       "    <tr style=\"text-align: right;\">\n",
       "      <th></th>\n",
       "      <th>bathroomcnt</th>\n",
       "      <th>bedroomcnt</th>\n",
       "      <th>buildingqualitytypeid</th>\n",
       "      <th>calculatedfinishedsquarefeet</th>\n",
       "      <th>fips</th>\n",
       "      <th>latitude</th>\n",
       "      <th>longitude</th>\n",
       "      <th>lotsizesquarefeet</th>\n",
       "      <th>rawcensustractandblock</th>\n",
       "      <th>regionidcity</th>\n",
       "      <th>...</th>\n",
       "      <th>taxvaluedollarcnt</th>\n",
       "      <th>assessmentyear</th>\n",
       "      <th>landtaxvaluedollarcnt</th>\n",
       "      <th>taxamount</th>\n",
       "      <th>logerror</th>\n",
       "      <th>transactiondate</th>\n",
       "      <th>heatingorsystemdesc</th>\n",
       "      <th>county</th>\n",
       "      <th>greater_than_median</th>\n",
       "      <th>lot_bin</th>\n",
       "    </tr>\n",
       "    <tr>\n",
       "      <th>parcelid</th>\n",
       "      <th></th>\n",
       "      <th></th>\n",
       "      <th></th>\n",
       "      <th></th>\n",
       "      <th></th>\n",
       "      <th></th>\n",
       "      <th></th>\n",
       "      <th></th>\n",
       "      <th></th>\n",
       "      <th></th>\n",
       "      <th></th>\n",
       "      <th></th>\n",
       "      <th></th>\n",
       "      <th></th>\n",
       "      <th></th>\n",
       "      <th></th>\n",
       "      <th></th>\n",
       "      <th></th>\n",
       "      <th></th>\n",
       "      <th></th>\n",
       "      <th></th>\n",
       "    </tr>\n",
       "  </thead>\n",
       "  <tbody>\n",
       "    <tr>\n",
       "      <th>12973126</th>\n",
       "      <td>1.00</td>\n",
       "      <td>3.00</td>\n",
       "      <td>5.00</td>\n",
       "      <td>2,520.00</td>\n",
       "      <td>6,037.00</td>\n",
       "      <td>34,125,398.00</td>\n",
       "      <td>-117,977,314.00</td>\n",
       "      <td>24,309.00</td>\n",
       "      <td>60,374,301.02</td>\n",
       "      <td>24,435.00</td>\n",
       "      <td>...</td>\n",
       "      <td>556,524.00</td>\n",
       "      <td>2,016.00</td>\n",
       "      <td>348,477.00</td>\n",
       "      <td>7,160.29</td>\n",
       "      <td>0.58</td>\n",
       "      <td>2017-01-13</td>\n",
       "      <td>Floor/Wall</td>\n",
       "      <td>Los_Angeles</td>\n",
       "      <td>True</td>\n",
       "      <td>(10672.0, 6971010.0]</td>\n",
       "    </tr>\n",
       "    <tr>\n",
       "      <th>17283090</th>\n",
       "      <td>3.00</td>\n",
       "      <td>3.00</td>\n",
       "      <td>6.00</td>\n",
       "      <td>2,434.00</td>\n",
       "      <td>6,111.00</td>\n",
       "      <td>34,188,665.00</td>\n",
       "      <td>-118,847,985.00</td>\n",
       "      <td>23,559.00</td>\n",
       "      <td>61,110,072.01</td>\n",
       "      <td>34,278.00</td>\n",
       "      <td>...</td>\n",
       "      <td>821,302.00</td>\n",
       "      <td>2,016.00</td>\n",
       "      <td>410,651.00</td>\n",
       "      <td>8,723.76</td>\n",
       "      <td>-0.05</td>\n",
       "      <td>2017-04-18</td>\n",
       "      <td>None</td>\n",
       "      <td>Ventura</td>\n",
       "      <td>True</td>\n",
       "      <td>(10672.0, 6971010.0]</td>\n",
       "    </tr>\n",
       "    <tr>\n",
       "      <th>11399948</th>\n",
       "      <td>2.00</td>\n",
       "      <td>2.00</td>\n",
       "      <td>7.00</td>\n",
       "      <td>850.00</td>\n",
       "      <td>6,037.00</td>\n",
       "      <td>33,974,046.00</td>\n",
       "      <td>-118,352,947.00</td>\n",
       "      <td>27,740.00</td>\n",
       "      <td>60,376,009.02</td>\n",
       "      <td>45,888.00</td>\n",
       "      <td>...</td>\n",
       "      <td>101,143.00</td>\n",
       "      <td>2,016.00</td>\n",
       "      <td>20,221.00</td>\n",
       "      <td>1,410.53</td>\n",
       "      <td>0.02</td>\n",
       "      <td>2017-06-06</td>\n",
       "      <td>Central</td>\n",
       "      <td>Los_Angeles</td>\n",
       "      <td>False</td>\n",
       "      <td>(10672.0, 6971010.0]</td>\n",
       "    </tr>\n",
       "    <tr>\n",
       "      <th>12530443</th>\n",
       "      <td>2.00</td>\n",
       "      <td>2.00</td>\n",
       "      <td>6.00</td>\n",
       "      <td>1,028.00</td>\n",
       "      <td>6,037.00</td>\n",
       "      <td>33,771,600.00</td>\n",
       "      <td>-118,120,000.00</td>\n",
       "      <td>559,649.00</td>\n",
       "      <td>60,375,776.03</td>\n",
       "      <td>46,298.00</td>\n",
       "      <td>...</td>\n",
       "      <td>340,000.00</td>\n",
       "      <td>2,016.00</td>\n",
       "      <td>200,000.00</td>\n",
       "      <td>4,131.97</td>\n",
       "      <td>-0.02</td>\n",
       "      <td>2017-09-11</td>\n",
       "      <td>Central</td>\n",
       "      <td>Los_Angeles</td>\n",
       "      <td>False</td>\n",
       "      <td>(10672.0, 6971010.0]</td>\n",
       "    </tr>\n",
       "    <tr>\n",
       "      <th>11044357</th>\n",
       "      <td>2.00</td>\n",
       "      <td>2.00</td>\n",
       "      <td>8.00</td>\n",
       "      <td>889.00</td>\n",
       "      <td>6,037.00</td>\n",
       "      <td>34,234,900.00</td>\n",
       "      <td>-118,472,000.00</td>\n",
       "      <td>17,774.00</td>\n",
       "      <td>60,371,174.05</td>\n",
       "      <td>12,447.00</td>\n",
       "      <td>...</td>\n",
       "      <td>75,287.00</td>\n",
       "      <td>2,016.00</td>\n",
       "      <td>15,052.00</td>\n",
       "      <td>975.56</td>\n",
       "      <td>-0.15</td>\n",
       "      <td>2017-08-11</td>\n",
       "      <td>Central</td>\n",
       "      <td>Los_Angeles</td>\n",
       "      <td>False</td>\n",
       "      <td>(10672.0, 6971010.0]</td>\n",
       "    </tr>\n",
       "  </tbody>\n",
       "</table>\n",
       "<p>5 rows × 26 columns</p>\n",
       "</div>"
      ],
      "text/plain": [
       "                  bathroomcnt           bedroomcnt  buildingqualitytypeid  \\\n",
       "parcelid                                                                    \n",
       "12973126                 1.00                 3.00                   5.00   \n",
       "17283090                 3.00                 3.00                   6.00   \n",
       "11399948                 2.00                 2.00                   7.00   \n",
       "12530443                 2.00                 2.00                   6.00   \n",
       "11044357                 2.00                 2.00                   8.00   \n",
       "\n",
       "          calculatedfinishedsquarefeet                 fips  \\\n",
       "parcelid                                                      \n",
       "12973126                      2,520.00             6,037.00   \n",
       "17283090                      2,434.00             6,111.00   \n",
       "11399948                        850.00             6,037.00   \n",
       "12530443                      1,028.00             6,037.00   \n",
       "11044357                        889.00             6,037.00   \n",
       "\n",
       "                     latitude            longitude    lotsizesquarefeet  \\\n",
       "parcelid                                                                  \n",
       "12973126        34,125,398.00      -117,977,314.00            24,309.00   \n",
       "17283090        34,188,665.00      -118,847,985.00            23,559.00   \n",
       "11399948        33,974,046.00      -118,352,947.00            27,740.00   \n",
       "12530443        33,771,600.00      -118,120,000.00           559,649.00   \n",
       "11044357        34,234,900.00      -118,472,000.00            17,774.00   \n",
       "\n",
       "          rawcensustractandblock         regionidcity  ...  \\\n",
       "parcelid                                               ...   \n",
       "12973126           60,374,301.02            24,435.00  ...   \n",
       "17283090           61,110,072.01            34,278.00  ...   \n",
       "11399948           60,376,009.02            45,888.00  ...   \n",
       "12530443           60,375,776.03            46,298.00  ...   \n",
       "11044357           60,371,174.05            12,447.00  ...   \n",
       "\n",
       "            taxvaluedollarcnt       assessmentyear  landtaxvaluedollarcnt  \\\n",
       "parcelid                                                                    \n",
       "12973126           556,524.00             2,016.00             348,477.00   \n",
       "17283090           821,302.00             2,016.00             410,651.00   \n",
       "11399948           101,143.00             2,016.00              20,221.00   \n",
       "12530443           340,000.00             2,016.00             200,000.00   \n",
       "11044357            75,287.00             2,016.00              15,052.00   \n",
       "\n",
       "                    taxamount             logerror  transactiondate  \\\n",
       "parcelid                                                              \n",
       "12973126             7,160.29                 0.58       2017-01-13   \n",
       "17283090             8,723.76                -0.05       2017-04-18   \n",
       "11399948             1,410.53                 0.02       2017-06-06   \n",
       "12530443             4,131.97                -0.02       2017-09-11   \n",
       "11044357               975.56                -0.15       2017-08-11   \n",
       "\n",
       "          heatingorsystemdesc       county  greater_than_median  \\\n",
       "parcelid                                                          \n",
       "12973126           Floor/Wall  Los_Angeles                 True   \n",
       "17283090                 None      Ventura                 True   \n",
       "11399948              Central  Los_Angeles                False   \n",
       "12530443              Central  Los_Angeles                False   \n",
       "11044357              Central  Los_Angeles                False   \n",
       "\n",
       "                       lot_bin  \n",
       "parcelid                        \n",
       "12973126  (10672.0, 6971010.0]  \n",
       "17283090  (10672.0, 6971010.0]  \n",
       "11399948  (10672.0, 6971010.0]  \n",
       "12530443  (10672.0, 6971010.0]  \n",
       "11044357  (10672.0, 6971010.0]  \n",
       "\n",
       "[5 rows x 26 columns]"
      ]
     },
     "execution_count": 35,
     "metadata": {},
     "output_type": "execute_result"
    }
   ],
   "source": [
    "q4.head()"
   ]
  },
  {
   "cell_type": "code",
   "execution_count": 36,
   "metadata": {},
   "outputs": [
    {
     "name": "stdout",
     "output_type": "stream",
     "text": [
      "t = 2.069\n",
      "p = 0.039\n",
      "there is a difference in the logerror between homes in the 4th quartile of lot size \n",
      "        and the general population\n"
     ]
    }
   ],
   "source": [
    "t, p = stats.ttest_1samp(q4.logerror, train.logerror.mean())\n",
    "\n",
    "print(f't = {t:.3f}')\n",
    "print(f'p = {p:.3f}')\n",
    "\n",
    "if p < alpha:\n",
    "    print(H1)\n",
    "else:\n",
    "    print(H0)"
   ]
  },
  {
   "cell_type": "markdown",
   "metadata": {},
   "source": [
    "## Q5\n",
    "\n",
    "### - Is the age of a home related to logerror?"
   ]
  },
  {
   "cell_type": "code",
   "execution_count": 37,
   "metadata": {},
   "outputs": [
    {
     "data": {
      "image/png": "[encoded data removed]",
      "text/plain": [
       "<Figure size 432x288 with 1 Axes>"
      ]
     },
     "metadata": {
      "needs_background": "light"
     },
     "output_type": "display_data"
    }
   ],
   "source": [
    "sns.scatterplot(x='logerror', y='yearbuilt',\n",
    "               data=train, hue='county')\n",
    "plt.title(\"How does logerror compare to the home's age \\nwithin each county?\")\n",
    "plt.show()"
   ]
  },
  {
   "cell_type": "code",
   "execution_count": 38,
   "metadata": {},
   "outputs": [],
   "source": [
    "## it looks like the older a home is the smaller the range of logerrors "
   ]
  },
  {
   "cell_type": "code",
   "execution_count": 39,
   "metadata": {},
   "outputs": [],
   "source": [
    "H0 = 'there is no correlation between the age of a home and the logerror'\n",
    "\n",
    "H1 = 'there is a correlation between the age of a home and the logerror'\n",
    "\n",
    "alpha = .05"
   ]
  },
  {
   "cell_type": "code",
   "execution_count": 40,
   "metadata": {},
   "outputs": [
    {
     "data": {
      "text/plain": [
       "(0.009315712370888839, 0.06564814988734904)"
      ]
     },
     "execution_count": 40,
     "metadata": {},
     "output_type": "execute_result"
    }
   ],
   "source": [
    "corr, p = stats.pearsonr(train.yearbuilt, train.logerror)\n",
    "corr, p\n"
   ]
  },
  {
   "cell_type": "code",
   "execution_count": 41,
   "metadata": {},
   "outputs": [],
   "source": [
    "## p value is slightly too high, we are unable to reject the null hypothesis"
   ]
  },
  {
   "cell_type": "markdown",
   "metadata": {},
   "source": [
    "# Bonus\n",
    "\n",
    "### Compute the mean(logerror) by zipcode and the overall mean(logerror). Write a loop that will run a t-test between the overall mean and the mean for each zip code. We want to identify the zip codes where the error is significantly higher or lower than the expected error."
   ]
  },
  {
   "cell_type": "code",
   "execution_count": 42,
   "metadata": {},
   "outputs": [
    {
     "data": {
      "text/plain": [
       "0.01614816514664341"
      ]
     },
     "execution_count": 42,
     "metadata": {},
     "output_type": "execute_result"
    }
   ],
   "source": [
    "logerror_mean = train.logerror.mean()\n",
    "\n",
    "logerror_mean"
   ]
  },
  {
   "cell_type": "code",
   "execution_count": 43,
   "metadata": {},
   "outputs": [
    {
     "data": {
      "text/plain": [
       "97,319.00    450\n",
       "96,987.00    427\n",
       "97,318.00    405\n",
       "97,118.00    351\n",
       "96,993.00    341\n",
       "            ... \n",
       "97,108.00      3\n",
       "96,329.00      2\n",
       "97,111.00      1\n",
       "96,467.00      1\n",
       "96,039.00      1\n",
       "Name: regionidzip, Length: 385, dtype: int64"
      ]
     },
     "execution_count": 43,
     "metadata": {},
     "output_type": "execute_result"
    }
   ],
   "source": [
    "train.regionidzip.value_counts()"
   ]
  },
  {
   "cell_type": "code",
   "execution_count": 44,
   "metadata": {},
   "outputs": [],
   "source": [
    "unique_zips = list(train.regionidzip.unique())"
   ]
  },
  {
   "cell_type": "code",
   "execution_count": 61,
   "metadata": {},
   "outputs": [],
   "source": [
    "unique_zips = pd.DataFrame(unique_zips)"
   ]
  },
  {
   "cell_type": "code",
   "execution_count": 64,
   "metadata": {},
   "outputs": [],
   "source": [
    "unique_zips = unique_zips.rename(columns={0: 'zip'})"
   ]
  },
  {
   "cell_type": "code",
   "execution_count": 65,
   "metadata": {},
   "outputs": [
    {
     "data": {
      "text/html": [
       "<div>\n",
       "<style scoped>\n",
       "    .dataframe tbody tr th:only-of-type {\n",
       "        vertical-align: middle;\n",
       "    }\n",
       "\n",
       "    .dataframe tbody tr th {\n",
       "        vertical-align: top;\n",
       "    }\n",
       "\n",
       "    .dataframe thead th {\n",
       "        text-align: right;\n",
       "    }\n",
       "</style>\n",
       "<table border=\"1\" class=\"dataframe\">\n",
       "  <thead>\n",
       "    <tr style=\"text-align: right;\">\n",
       "      <th></th>\n",
       "      <th>zip</th>\n",
       "    </tr>\n",
       "  </thead>\n",
       "  <tbody>\n",
       "    <tr>\n",
       "      <th>0</th>\n",
       "      <td>96,510.00</td>\n",
       "    </tr>\n",
       "    <tr>\n",
       "      <th>1</th>\n",
       "      <td>96,270.00</td>\n",
       "    </tr>\n",
       "    <tr>\n",
       "      <th>2</th>\n",
       "      <td>96,026.00</td>\n",
       "    </tr>\n",
       "    <tr>\n",
       "      <th>3</th>\n",
       "      <td>97,026.00</td>\n",
       "    </tr>\n",
       "    <tr>\n",
       "      <th>4</th>\n",
       "      <td>96,385.00</td>\n",
       "    </tr>\n",
       "  </tbody>\n",
       "</table>\n",
       "</div>"
      ],
      "text/plain": [
       "                   zip\n",
       "0            96,510.00\n",
       "1            96,270.00\n",
       "2            96,026.00\n",
       "3            97,026.00\n",
       "4            96,385.00"
      ]
     },
     "execution_count": 65,
     "metadata": {},
     "output_type": "execute_result"
    }
   ],
   "source": [
    "unique_zips.head()"
   ]
  },
  {
   "cell_type": "code",
   "execution_count": 66,
   "metadata": {},
   "outputs": [
    {
     "ename": "TypeError",
     "evalue": "'float' object does not support item assignment",
     "output_type": "error",
     "traceback": [
      "\u001b[0;31m---------------------------------------------------------------------------\u001b[0m",
      "\u001b[0;31mTypeError\u001b[0m                                 Traceback (most recent call last)",
      "\u001b[0;32m<ipython-input-66-b56e2d2c6206>\u001b[0m in \u001b[0;36m<module>\u001b[0;34m\u001b[0m\n\u001b[1;32m      1\u001b[0m \u001b[0;32mfor\u001b[0m \u001b[0munique_zip\u001b[0m \u001b[0;32min\u001b[0m \u001b[0munique_zips\u001b[0m\u001b[0;34m[\u001b[0m\u001b[0;34m'zip'\u001b[0m\u001b[0;34m]\u001b[0m\u001b[0;34m:\u001b[0m\u001b[0;34m\u001b[0m\u001b[0;34m\u001b[0m\u001b[0m\n\u001b[1;32m      2\u001b[0m     \u001b[0mzip_bin\u001b[0m \u001b[0;34m=\u001b[0m \u001b[0mtrain\u001b[0m\u001b[0;34m[\u001b[0m\u001b[0mtrain\u001b[0m\u001b[0;34m.\u001b[0m\u001b[0mregionidzip\u001b[0m \u001b[0;34m==\u001b[0m \u001b[0munique_zip\u001b[0m\u001b[0;34m]\u001b[0m\u001b[0;34m\u001b[0m\u001b[0;34m\u001b[0m\u001b[0m\n\u001b[0;32m----> 3\u001b[0;31m     \u001b[0munique_zip\u001b[0m\u001b[0;34m[\u001b[0m\u001b[0;34m'logerror_means'\u001b[0m\u001b[0;34m]\u001b[0m \u001b[0;34m=\u001b[0m \u001b[0mzip_bin\u001b[0m\u001b[0;34m.\u001b[0m\u001b[0mlogerror\u001b[0m\u001b[0;34m.\u001b[0m\u001b[0mmean\u001b[0m\u001b[0;34m(\u001b[0m\u001b[0;34m)\u001b[0m\u001b[0;34m\u001b[0m\u001b[0;34m\u001b[0m\u001b[0m\n\u001b[0m",
      "\u001b[0;31mTypeError\u001b[0m: 'float' object does not support item assignment"
     ]
    }
   ],
   "source": [
    "for unique_zip in unique_zips['zip']:\n",
    "    zip_bin = train[train.regionidzip == unique_zip]\n",
    "    unique_zip['logerror_means'] = zip_bin.logerror.mean()"
   ]
  },
  {
   "cell_type": "code",
   "execution_count": 59,
   "metadata": {},
   "outputs": [],
   "source": [
    "logerror_means"
   ]
  },
  {
   "cell_type": "code",
   "execution_count": null,
   "metadata": {},
   "outputs": [],
   "source": []
  }
 ],
 "metadata": {
  "kernelspec": {
   "display_name": "Python 3",
   "language": "python",
   "name": "python3"
  },
  "language_info": {
   "codemirror_mode": {
    "name": "ipython",
    "version": 3
   },
   "file_extension": ".py",
   "mimetype": "text/x-python",
   "name": "python",
   "nbconvert_exporter": "python",
   "pygments_lexer": "ipython3",
   "version": "3.8.5"
  }
 },
 "nbformat": 4,
 "nbformat_minor": 4
}
